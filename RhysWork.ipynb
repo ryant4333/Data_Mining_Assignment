{
 "cells": [
  {
   "cell_type": "code",
   "execution_count": 1,
   "metadata": {},
   "outputs": [],
   "source": [
    "from matplotlib import pyplot as plt\n",
    "import pandas as pd\n",
    "import numpy as np\n"
   ]
  },
  {
   "cell_type": "code",
   "execution_count": 2,
   "metadata": {
    "tags": []
   },
   "outputs": [
    {
     "output_type": "stream",
     "name": "stdout",
     "text": "TEST\n"
    }
   ],
   "source": []
  },
  {
   "cell_type": "code",
   "execution_count": 3,
   "metadata": {
    "tags": []
   },
   "outputs": [
    {
     "output_type": "stream",
     "name": "stdout",
     "text": "eventid  iyear  imonth  iday approxdate  extended resolution  country  \\\n0  197000000001   1970       7     2        NaN         0        NaN       58   \n1  197000000002   1970       0     0        NaN         0        NaN      130   \n2  197001000001   1970       1     0        NaN         0        NaN      160   \n3  197001000002   1970       1     0        NaN         0        NaN       78   \n4  197001000003   1970       1     0        NaN         0        NaN      101   \n\n          country_txt  region  ... addnotes scite1 scite2  scite3  dbsource  \\\n0  Dominican Republic       2  ...      NaN    NaN    NaN     NaN      PGIS   \n1              Mexico       1  ...      NaN    NaN    NaN     NaN      PGIS   \n2         Philippines       5  ...      NaN    NaN    NaN     NaN      PGIS   \n3              Greece       8  ...      NaN    NaN    NaN     NaN      PGIS   \n4               Japan       4  ...      NaN    NaN    NaN     NaN      PGIS   \n\n   INT_LOG  INT_IDEO INT_MISC INT_ANY  related  \n0        0         0        0       0      NaN  \n1        0         1        1       1      NaN  \n2       -9        -9        1       1      NaN  \n3       -9        -9        1       1      NaN  \n4       -9        -9        1       1      NaN  \n\n[5 rows x 135 columns]\n"
    }
   ],
   "source": [
    "df = pd.read_csv('data.csv',header=0,encoding = \"Latin-1\")\n",
    "\n",
    "\n",
    "print(df.head())"
   ]
  },
  {
   "cell_type": "code",
   "execution_count": null,
   "metadata": {},
   "outputs": [],
   "source": []
  }
 ],
 "metadata": {
  "kernelspec": {
   "display_name": "Python 3",
   "language": "python",
   "name": "python3"
  },
  "language_info": {
   "codemirror_mode": {
    "name": "ipython",
    "version": 3
   },
   "file_extension": ".py",
   "mimetype": "text/x-python",
   "name": "python",
   "nbconvert_exporter": "python",
   "pygments_lexer": "ipython3",
   "version": "3.8.4-final"
  }
 },
 "nbformat": 4,
 "nbformat_minor": 4
}