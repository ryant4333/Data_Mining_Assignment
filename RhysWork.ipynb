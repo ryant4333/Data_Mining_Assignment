{
 "cells": [
  {
   "cell_type": "code",
   "execution_count": 1,
   "metadata": {},
   "outputs": [],
   "source": [
    "from matplotlib import pyplot as plt\n",
    "import pandas as pd\n",
    "import numpy as np\n"
   ]
  },
  {
   "cell_type": "code",
   "execution_count": 5,
   "metadata": {
    "tags": []
   },
   "outputs": [],
   "source": [
    "df = pd.read_csv('data.csv',header=0,encoding = \"Latin-1\")\n"
   ]
  },
  {
   "cell_type": "code",
   "execution_count": 12,
   "metadata": {
    "tags": []
   },
   "outputs": [
    {
     "output_type": "stream",
     "name": "stdout",
     "text": "eventid  iyear  imonth  iday approxdate  extended resolution  \\\n1325    197206020002   1972       6     2        NaN         0        NaN   \n2440    197406150002   1974       6    15        NaN         0        NaN   \n7333    197901120004   1979       1    12        NaN         0        NaN   \n10400   198003100029   1980       3    10        NaN         0        NaN   \n37958   198904150010   1989       4    15        NaN         0        NaN   \n45220   199101210016   1991       1    21        NaN         0        NaN   \n49217   199111250005   1991      11    25        NaN         0        NaN   \n54858   199401130004   1994       1    13        NaN         0        NaN   \n57627   199410270002   1994      10    27        NaN         0        NaN   \n58210   199501060004   1995       1     6        NaN         0        NaN   \n58497   199502140011   1995       2    14        NaN         0        NaN   \n58787   199503150008   1995       3    15        NaN         0        NaN   \n59919   199507250007   1995       7    25        NaN         0        NaN   \n60277   199509030022   1995       9     3        NaN         0        NaN   \n61321   199601060001   1996       1     6        NaN         0        NaN   \n62044   199604040008   1996       4     4        NaN         0        NaN   \n62930   199607220009   1996       7    22        NaN         0        NaN   \n62962   199607260002   1996       7    26        NaN         0        NaN   \n63267   199609030001   1996       9     3        NaN         0        NaN   \n63953   199611150003   1996      11    15        NaN         0        NaN   \n65562   199706090010   1997       6     9        NaN         0        NaN   \n67662   199802230003   1998       2    23        NaN         0        NaN   \n71182   200010140002   2000      10    14        NaN         0        NaN   \n75106   200302070003   2003       2     7        NaN         0        NaN   \n75297   200303170005   2003       3    17        NaN         1  3/19/2003   \n78085   200505130001   2005       5    13        NaN         0        NaN   \n89550   200811190018   2008      11    19        NaN         0        NaN   \n96457   201005120016   2010       5    12        NaN         0        NaN   \n97512   201007290002   2010       7    29        NaN         0        NaN   \n99746   201101050005   2011       1     5        NaN         0        NaN   \n126998  201402070032   2014       2     7        NaN         0        NaN   \n138462  201409290049   2014       9    29        NaN         0        NaN   \n171066  201701100028   2017       1    10        NaN         1        NaN   \n\n        country    country_txt  region  ...  \\\n1325        217  United States       1  ...   \n2440        217  United States       1  ...   \n7333        208        Tunisia      10  ...   \n10400       110        Lebanon      10  ...   \n37958        98          Italy       8  ...   \n45220        32       Bulgaria       9  ...   \n49217        65       Ethiopia      11  ...   \n54858        92          India       6  ...   \n57627       167         Russia       9  ...   \n58210        26        Bolivia       3  ...   \n58497        15        Austria       8  ...   \n58787       101          Japan       4  ...   \n59919        11      Argentina       3  ...   \n60277       185          Spain       8  ...   \n61321       201         Taiwan       4  ...   \n62044        19     Bangladesh       6  ...   \n62930       201         Taiwan       4  ...   \n62962       185          Spain       8  ...   \n63267       110        Lebanon      10  ...   \n63953        44          China       4  ...   \n65562       124          Malta       8  ...   \n67662       217  United States       1  ...   \n71182       173   Saudi Arabia      10  ...   \n75106       209         Turkey      10  ...   \n75297       217  United States       1  ...   \n78085       219     Uzbekistan       7  ...   \n89550         6        Algeria      10  ...   \n96457       130         Mexico       1  ...   \n97512       167         Russia       9  ...   \n99746       151         Norway       8  ...   \n126998      214        Ukraine       9  ...   \n138462       30         Brazil       3  ...   \n171066       92          India       6  ...   \n\n                                                 addnotes  \\\n1325                                                  NaN   \n2440                                                  NaN   \n7333                                                  NaN   \n10400                                                 NaN   \n37958                                                 NaN   \n45220                                                 NaN   \n49217                                                 NaN   \n54858                                                 NaN   \n57627                                                 NaN   \n58210                                                 NaN   \n58497                                                 NaN   \n58787                                                 NaN   \n59919                                                 NaN   \n60277                                                 NaN   \n61321                                                 NaN   \n62044                                                 NaN   \n62930                                                 NaN   \n62962                                                 NaN   \n63267                                                 NaN   \n63953                                                 NaN   \n65562   Police state that the hijackers made no politi...   \n67662   The 'devices' were found around 10:20 am by a ...   \n71182                                                 NaN   \n75106   Anatolia news agency also claimed that Urbak h...   \n75297   The incident began around 12:00 PM on March 17...   \n78085                                                 NaN   \n89550   The perpetrator entered the Palace of Justice ...   \n96457                                                 NaN   \n97512                                                 NaN   \n99746                                                 NaN   \n126998                                                NaN   \n138462                                                NaN   \n171066                                                NaN   \n\n                                                   scite1  \\\n1325                                                  NaN   \n2440                                                  NaN   \n7333                                                  NaN   \n10400                                                 NaN   \n37958                                                 NaN   \n45220                                                 NaN   \n49217                                                 NaN   \n54858                                                 NaN   \n57627                                                 NaN   \n58210                                                 NaN   \n58497                                                 NaN   \n58787                                                 NaN   \n59919                                                 NaN   \n60277                                                 NaN   \n61321                                                 NaN   \n62044                                                 NaN   \n62930                                                 NaN   \n62962                                                 NaN   \n63267                                                 NaN   \n63953                                                 NaN   \n65562   Emma Thomasson, \"Two Turks surrender as Maltes...   \n67662   \"Fake-Bomb Scare Tied to Bait-Shoot Program,\" ...   \n71182   Edward F. Mickolus, Terrorism, 1996-2001 : A C...   \n75106   \"Turkish hostage-taker wanted to protest US th...   \n75297   Derrill Holly, \"Man Claiming To Have Explosive...   \n78085   Aziz Nurioff, Uzbek Official says Man Killed ...   \n89550   Ikram Ghioua, \"Suicide Bomber Brought Under Co...   \n96457   Bite Back, \"Hoax bomb at KFC,\" Bite Back, May ...   \n97512   Press TV, \"Plane Hijacking Foiled in Moscow,\" ...   \n99746   Jane's Intelligence, \"Passengers Foil Attempt ...   \n126998  \"Ukraine investigates Sochi 'hijack attempt' f...   \n138462  \"Terrorist in Brazil Frees Hostage Unharmed,...   \n171066  \"No breakthrough in GH abduction case,\" Shillo...   \n\n                                                   scite2  \\\n1325                                                  NaN   \n2440                                                  NaN   \n7333                                                  NaN   \n10400                                                 NaN   \n37958                                                 NaN   \n45220                                                 NaN   \n49217                                                 NaN   \n54858                                                 NaN   \n57627                                                 NaN   \n58210                                                 NaN   \n58497                                                 NaN   \n58787                                                 NaN   \n59919                                                 NaN   \n60277                                                 NaN   \n61321                                                 NaN   \n62044                                                 NaN   \n62930                                                 NaN   \n62962                                                 NaN   \n63267                                                 NaN   \n63953                                                 NaN   \n65562                                                 NaN   \n67662   \"Fake Explosives Linked to Bait-and-Shoot Prot...   \n71182                                                 NaN   \n75106   \"Turkey: Police Fail to Connect Hijacker to Te...   \n75297   Gill Klein and David Rice, \"N.C. Farmer Declar...   \n78085   Suspected Suicide Attack Thwarted at Israeli ...   \n89550                                                 NaN   \n96457   Milenio, \"Grupo Anaquista Opera en Leon\", Mile...   \n97512   Xinhua News Agency, \"Attempted Plane Hijacking...   \n99746   Right Vision News, \"Turker: Turkish Police Thw...   \n126998  \"Xinhua world news summary at 0100 GMT, Feb. 8...   \n138462  \"Gunman holding hostage in Brazilian hotel has...   \n171066  \"4 kidnapped in SGH,\" ShillongTimes.com, Janua...   \n\n                                                   scite3  \\\n1325                                                  NaN   \n2440                                                  NaN   \n7333                                                  NaN   \n10400                                                 NaN   \n37958                                                 NaN   \n45220                                                 NaN   \n49217                                                 NaN   \n54858                                                 NaN   \n57627                                                 NaN   \n58210                                                 NaN   \n58497                                                 NaN   \n58787                                                 NaN   \n59919                                                 NaN   \n60277                                                 NaN   \n61321                                                 NaN   \n62044                                                 NaN   \n62930                                                 NaN   \n62962                                                 NaN   \n63267                                                 NaN   \n63953                                                 NaN   \n65562                                                 NaN   \n67662                                                 NaN   \n71182                                                 NaN   \n75106   \"Man who attempted to hijack plane jailed pend...   \n75297   \"Farmer Convicted in Tractor Protest,\" St. Pet...   \n78085                                                 NaN   \n89550                                                 NaN   \n96457                                                 NaN   \n97512   Russia & CIS General Newswire, \"Court Sanction...   \n99746   Daily Telegraph, \"Hijacking Bid Foiled,\" Lexis...   \n126998                                                NaN   \n138462  \"Terrorist in Brazil Frees Hostage Unharmed,...   \n171066  \"Four persons kidnapped in South Garo Hills,\" ...   \n\n                                        dbsource  INT_LOG  INT_IDEO INT_MISC  \\\n1325                                         HSI        0         0        0   \n2440                      CBRN Global Chronology       -9        -9        0   \n7333                                Hijacking DB       -9        -9        0   \n10400                                       PGIS       -9        -9        0   \n37958                     CBRN Global Chronology        0         1        1   \n45220                                       PGIS       -9        -9        1   \n49217                                       PGIS       -9        -9        0   \n54858                                       PGIS       -9        -9        0   \n57627                                       PGIS       -9        -9        0   \n58210                                       PGIS       -9        -9        1   \n58497                                       PGIS       -9        -9       -9   \n58787                     CBRN Global Chronology        0         0        0   \n59919                                       PGIS       -9        -9        0   \n60277                                       PGIS       -9        -9        1   \n61321                                       PGIS       -9        -9        0   \n62044                                       PGIS       -9        -9        0   \n62930                                       PGIS        1         1        0   \n62962                                       PGIS        1         1        1   \n63267                                       PGIS       -9        -9        1   \n63953                                       PGIS       -9        -9        0   \n65562   UMD Encyclopedia of World Terrorism 2012        1         1        1   \n67662                           Eco Project 2010        0         1        0   \n71182                                      CETIS       -9        -9        1   \n75106                                      CETIS       -9        -9        0   \n75297                             Hewitt Project       -9        -9        0   \n78085                                      CETIS       -9        -9        1   \n89550                      UMD Algeria 2010-2012        0         0        0   \n96457                                       ISVG        0         1        0   \n97512                                       ISVG       -9        -9        0   \n99746                                       ISVG        1         0        1   \n126998                  START Primary Collection       -9        -9        1   \n138462                  START Primary Collection       -9        -9        0   \n171066                  START Primary Collection        0         0        0   \n\n       INT_ANY  related  \n1325         0      NaN  \n2440        -9      NaN  \n7333        -9      NaN  \n10400       -9      NaN  \n37958        1      NaN  \n45220        1      NaN  \n49217       -9      NaN  \n54858       -9      NaN  \n57627       -9      NaN  \n58210        1      NaN  \n58497       -9      NaN  \n58787        0      NaN  \n59919       -9      NaN  \n60277        1      NaN  \n61321       -9      NaN  \n62044       -9      NaN  \n62930        1      NaN  \n62962        1      NaN  \n63267        1      NaN  \n63953       -9      NaN  \n65562        1      NaN  \n67662        1      NaN  \n71182        1      NaN  \n75106       -9      NaN  \n75297       -9      NaN  \n78085        1      NaN  \n89550        0      NaN  \n96457        1      NaN  \n97512       -9      NaN  \n99746        1      NaN  \n126998       1      NaN  \n138462      -9      NaN  \n171066       0      NaN  \n\n[33 rows x 135 columns]\n"
    }
   ],
   "source": [
    "print(df[df.weaptype1==7])#.shape[0])"
   ]
  },
  {
   "cell_type": "code",
   "execution_count": 61,
   "metadata": {
    "tags": []
   },
   "outputs": [
    {
     "output_type": "stream",
     "name": "stdout",
     "text": "['\"No breakthrough in GH abduction case,\" ShillongTimes.com, January 24, 2017.']\n['\"4 kidnapped in SGH,\" ShillongTimes.com, January 23, 2017.']\n['\"Four persons kidnapped in South Garo Hills,\" Assam Tribune, January 22, 2017.']\n171066    201701100028\nName: eventid, dtype: int64\n"
    }
   ],
   "source": [
    "#data = df.loc[(df['iyear']==2017)]\n",
    "\n",
    "# Searches for entries that occured in the year 2017 and they used a fake weapon \n",
    "data = df.loc[(df['iyear'] == 2017) & (df['weaptype1'] == 7)]\n",
    "print(data.scite1.values)\n",
    "print(data.scite2.values)\n",
    "print(data.scite3.values)\n",
    "print(data.eventid)\n",
    "#print(df.loc[5,'scite1'])\n",
    "#print(df.loc[5,'scite2'])"
   ]
  },
  {
   "cell_type": "code",
   "execution_count": null,
   "metadata": {},
   "outputs": [],
   "source": []
  }
 ],
 "metadata": {
  "kernelspec": {
   "display_name": "Python 3",
   "language": "python",
   "name": "python3"
  },
  "language_info": {
   "codemirror_mode": {
    "name": "ipython",
    "version": 3
   },
   "file_extension": ".py",
   "mimetype": "text/x-python",
   "name": "python",
   "nbconvert_exporter": "python",
   "pygments_lexer": "ipython3",
   "version": "3.8.4-final"
  }
 },
 "nbformat": 4,
 "nbformat_minor": 4
}