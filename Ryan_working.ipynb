{
 "cells": [
  {
   "cell_type": "code",
   "execution_count": 2,
   "metadata": {},
   "outputs": [
    {
     "name": "stdout",
     "output_type": "stream",
     "text": [
      "Python version: 3.8.2 (default, Jul 16 2020, 14:00:26) \n",
      "[GCC 9.3.0]\n",
      "pandas version: 1.0.5\n",
      "NumPy version: 1.19.0\n",
      "Seaborn version: 0.10.1\n"
     ]
    },
    {
     "ename": "ModuleNotFoundError",
     "evalue": "No module named 'pandas_profiling'",
     "output_type": "error",
     "traceback": [
      "\u001b[0;31m----------------------------------------\u001b[0m",
      "\u001b[0;31mModuleNotFoundError\u001b[0mTraceback (most recent call last)",
      "\u001b[0;32m<ipython-input-2-ae7c7ad3b4bc>\u001b[0m in \u001b[0;36m<module>\u001b[0;34m\u001b[0m\n\u001b[1;32m     15\u001b[0m \u001b[0;34m\u001b[0m\u001b[0m\n\u001b[1;32m     16\u001b[0m \u001b[0;31m#EDA\u001b[0m\u001b[0;34m\u001b[0m\u001b[0;34m\u001b[0m\u001b[0;34m\u001b[0m\u001b[0m\n\u001b[0;32m---> 17\u001b[0;31m \u001b[0;32mimport\u001b[0m \u001b[0mpandas_profiling\u001b[0m \u001b[0;32mas\u001b[0m \u001b[0mpp\u001b[0m\u001b[0;34m\u001b[0m\u001b[0;34m\u001b[0m\u001b[0m\n\u001b[0m\u001b[1;32m     18\u001b[0m \u001b[0mprint\u001b[0m\u001b[0;34m(\u001b[0m\u001b[0;34m\"pandas_profiling version: {}\"\u001b[0m\u001b[0;34m.\u001b[0m \u001b[0mformat\u001b[0m\u001b[0;34m(\u001b[0m\u001b[0mpp\u001b[0m\u001b[0;34m.\u001b[0m\u001b[0m__version__\u001b[0m\u001b[0;34m)\u001b[0m\u001b[0;34m)\u001b[0m\u001b[0;34m\u001b[0m\u001b[0;34m\u001b[0m\u001b[0m\n\u001b[1;32m     19\u001b[0m \u001b[0;34m\u001b[0m\u001b[0m\n",
      "\u001b[0;31mModuleNotFoundError\u001b[0m: No module named 'pandas_profiling'"
     ]
    }
   ],
   "source": [
    "import sys #access to system parameters https://docs.python.org/3/library/sys.html\n",
    "print(\"Python version: {}\". format(sys.version))\n",
    "\n",
    "#load dataset\n",
    "import pandas as pd\n",
    "print(\"pandas version: {}\". format(pd.__version__))\n",
    "import numpy as np\n",
    "print(\"NumPy version: {}\". format(np.__version__))\n",
    "\n",
    "#Visualisation\n",
    "import matplotlib.pyplot as plt\n",
    "plt.style.use('fivethirtyeight')\n",
    "import seaborn as sns\n",
    "print(\"Seaborn version: {}\". format(sns.__version__))\n",
    "\n",
    "#EDA\n",
    "import pandas_profiling as pp\n",
    "print(\"pandas_profiling version: {}\". format(pp.__version__))\n",
    "\n",
    "# %matplotlib inline\n",
    "# mpl.style.use('ggplot')\n",
    "# sns.set_style('white')\n",
    "# pylab.rcParams['figure.figsize'] = 12,8\n",
    "\n",
    "# https://www.kaggle.com/START-UMD/gtd "
   ]
  },
  {
   "cell_type": "code",
   "execution_count": 4,
   "metadata": {},
   "outputs": [
    {
     "ename": "ImportError",
     "evalue": "Missing optional dependency 'xlrd'. Install xlrd >= 1.0.0 for Excel support Use pip or conda to install xlrd.",
     "output_type": "error",
     "traceback": [
      "\u001b[0;31m----------------------------------------\u001b[0m",
      "\u001b[0;31mImportError\u001b[0mTraceback (most recent call last)",
      "\u001b[0;32m<ipython-input-4-fe6a40210b2c>\u001b[0m in \u001b[0;36m<module>\u001b[0;34m\u001b[0m\n\u001b[0;32m----> 1\u001b[0;31m \u001b[0mdata\u001b[0m \u001b[0;34m=\u001b[0m \u001b[0mpd\u001b[0m\u001b[0;34m.\u001b[0m\u001b[0mread_excel\u001b[0m\u001b[0;34m(\u001b[0m\u001b[0;34m\"./datasets/globalterrorismdb_0919dist.xlsx\"\u001b[0m\u001b[0;34m)\u001b[0m\u001b[0;34m\u001b[0m\u001b[0;34m\u001b[0m\u001b[0m\n\u001b[0m\u001b[1;32m      2\u001b[0m \u001b[0;34m\u001b[0m\u001b[0m\n\u001b[1;32m      3\u001b[0m \u001b[0mdata\u001b[0m\u001b[0;34m.\u001b[0m\u001b[0mhead\u001b[0m\u001b[0;34m(\u001b[0m\u001b[0;34m)\u001b[0m\u001b[0;34m\u001b[0m\u001b[0;34m\u001b[0m\u001b[0m\n",
      "\u001b[0;32m~/.local/lib/python3.8/site-packages/pandas/io/excel/_base.py\u001b[0m in \u001b[0;36mread_excel\u001b[0;34m(io, sheet_name, header, names, index_col, usecols, squeeze, dtype, engine, converters, true_values, false_values, skiprows, nrows, na_values, keep_default_na, verbose, parse_dates, date_parser, thousands, comment, skipfooter, convert_float, mangle_dupe_cols, **kwds)\u001b[0m\n\u001b[1;32m    302\u001b[0m \u001b[0;34m\u001b[0m\u001b[0m\n\u001b[1;32m    303\u001b[0m     \u001b[0;32mif\u001b[0m \u001b[0;32mnot\u001b[0m \u001b[0misinstance\u001b[0m\u001b[0;34m(\u001b[0m\u001b[0mio\u001b[0m\u001b[0;34m,\u001b[0m \u001b[0mExcelFile\u001b[0m\u001b[0;34m)\u001b[0m\u001b[0;34m:\u001b[0m\u001b[0;34m\u001b[0m\u001b[0;34m\u001b[0m\u001b[0m\n\u001b[0;32m--> 304\u001b[0;31m         \u001b[0mio\u001b[0m \u001b[0;34m=\u001b[0m \u001b[0mExcelFile\u001b[0m\u001b[0;34m(\u001b[0m\u001b[0mio\u001b[0m\u001b[0;34m,\u001b[0m \u001b[0mengine\u001b[0m\u001b[0;34m=\u001b[0m\u001b[0mengine\u001b[0m\u001b[0;34m)\u001b[0m\u001b[0;34m\u001b[0m\u001b[0;34m\u001b[0m\u001b[0m\n\u001b[0m\u001b[1;32m    305\u001b[0m     \u001b[0;32melif\u001b[0m \u001b[0mengine\u001b[0m \u001b[0;32mand\u001b[0m \u001b[0mengine\u001b[0m \u001b[0;34m!=\u001b[0m \u001b[0mio\u001b[0m\u001b[0;34m.\u001b[0m\u001b[0mengine\u001b[0m\u001b[0;34m:\u001b[0m\u001b[0;34m\u001b[0m\u001b[0;34m\u001b[0m\u001b[0m\n\u001b[1;32m    306\u001b[0m         raise ValueError(\n",
      "\u001b[0;32m~/.local/lib/python3.8/site-packages/pandas/io/excel/_base.py\u001b[0m in \u001b[0;36m__init__\u001b[0;34m(self, io, engine)\u001b[0m\n\u001b[1;32m    822\u001b[0m         \u001b[0mself\u001b[0m\u001b[0;34m.\u001b[0m\u001b[0m_io\u001b[0m \u001b[0;34m=\u001b[0m \u001b[0mstringify_path\u001b[0m\u001b[0;34m(\u001b[0m\u001b[0mio\u001b[0m\u001b[0;34m)\u001b[0m\u001b[0;34m\u001b[0m\u001b[0;34m\u001b[0m\u001b[0m\n\u001b[1;32m    823\u001b[0m \u001b[0;34m\u001b[0m\u001b[0m\n\u001b[0;32m--> 824\u001b[0;31m         \u001b[0mself\u001b[0m\u001b[0;34m.\u001b[0m\u001b[0m_reader\u001b[0m \u001b[0;34m=\u001b[0m \u001b[0mself\u001b[0m\u001b[0;34m.\u001b[0m\u001b[0m_engines\u001b[0m\u001b[0;34m[\u001b[0m\u001b[0mengine\u001b[0m\u001b[0;34m]\u001b[0m\u001b[0;34m(\u001b[0m\u001b[0mself\u001b[0m\u001b[0;34m.\u001b[0m\u001b[0m_io\u001b[0m\u001b[0;34m)\u001b[0m\u001b[0;34m\u001b[0m\u001b[0;34m\u001b[0m\u001b[0m\n\u001b[0m\u001b[1;32m    825\u001b[0m \u001b[0;34m\u001b[0m\u001b[0m\n\u001b[1;32m    826\u001b[0m     \u001b[0;32mdef\u001b[0m \u001b[0m__fspath__\u001b[0m\u001b[0;34m(\u001b[0m\u001b[0mself\u001b[0m\u001b[0;34m)\u001b[0m\u001b[0;34m:\u001b[0m\u001b[0;34m\u001b[0m\u001b[0;34m\u001b[0m\u001b[0m\n",
      "\u001b[0;32m~/.local/lib/python3.8/site-packages/pandas/io/excel/_xlrd.py\u001b[0m in \u001b[0;36m__init__\u001b[0;34m(self, filepath_or_buffer)\u001b[0m\n\u001b[1;32m     18\u001b[0m         \"\"\"\n\u001b[1;32m     19\u001b[0m         \u001b[0merr_msg\u001b[0m \u001b[0;34m=\u001b[0m \u001b[0;34m\"Install xlrd >= 1.0.0 for Excel support\"\u001b[0m\u001b[0;34m\u001b[0m\u001b[0;34m\u001b[0m\u001b[0m\n\u001b[0;32m---> 20\u001b[0;31m         \u001b[0mimport_optional_dependency\u001b[0m\u001b[0;34m(\u001b[0m\u001b[0;34m\"xlrd\"\u001b[0m\u001b[0;34m,\u001b[0m \u001b[0mextra\u001b[0m\u001b[0;34m=\u001b[0m\u001b[0merr_msg\u001b[0m\u001b[0;34m)\u001b[0m\u001b[0;34m\u001b[0m\u001b[0;34m\u001b[0m\u001b[0m\n\u001b[0m\u001b[1;32m     21\u001b[0m         \u001b[0msuper\u001b[0m\u001b[0;34m(\u001b[0m\u001b[0;34m)\u001b[0m\u001b[0;34m.\u001b[0m\u001b[0m__init__\u001b[0m\u001b[0;34m(\u001b[0m\u001b[0mfilepath_or_buffer\u001b[0m\u001b[0;34m)\u001b[0m\u001b[0;34m\u001b[0m\u001b[0;34m\u001b[0m\u001b[0m\n\u001b[1;32m     22\u001b[0m \u001b[0;34m\u001b[0m\u001b[0m\n",
      "\u001b[0;32m~/.local/lib/python3.8/site-packages/pandas/compat/_optional.py\u001b[0m in \u001b[0;36mimport_optional_dependency\u001b[0;34m(name, extra, raise_on_missing, on_version)\u001b[0m\n\u001b[1;32m     90\u001b[0m     \u001b[0;32mexcept\u001b[0m \u001b[0mImportError\u001b[0m\u001b[0;34m:\u001b[0m\u001b[0;34m\u001b[0m\u001b[0;34m\u001b[0m\u001b[0m\n\u001b[1;32m     91\u001b[0m         \u001b[0;32mif\u001b[0m \u001b[0mraise_on_missing\u001b[0m\u001b[0;34m:\u001b[0m\u001b[0;34m\u001b[0m\u001b[0;34m\u001b[0m\u001b[0m\n\u001b[0;32m---> 92\u001b[0;31m             \u001b[0;32mraise\u001b[0m \u001b[0mImportError\u001b[0m\u001b[0;34m(\u001b[0m\u001b[0mmsg\u001b[0m\u001b[0;34m)\u001b[0m \u001b[0;32mfrom\u001b[0m \u001b[0;32mNone\u001b[0m\u001b[0;34m\u001b[0m\u001b[0;34m\u001b[0m\u001b[0m\n\u001b[0m\u001b[1;32m     93\u001b[0m         \u001b[0;32melse\u001b[0m\u001b[0;34m:\u001b[0m\u001b[0;34m\u001b[0m\u001b[0;34m\u001b[0m\u001b[0m\n\u001b[1;32m     94\u001b[0m             \u001b[0;32mreturn\u001b[0m \u001b[0;32mNone\u001b[0m\u001b[0;34m\u001b[0m\u001b[0;34m\u001b[0m\u001b[0m\n",
      "\u001b[0;31mImportError\u001b[0m: Missing optional dependency 'xlrd'. Install xlrd >= 1.0.0 for Excel support Use pip or conda to install xlrd."
     ]
    }
   ],
   "source": [
    "data = pd.read_excel(\"./datasets/globalterrorismdb_0919dist.xlsx\")\n",
    "\n",
    "data.head()"
   ]
  },
  {
   "cell_type": "code",
   "execution_count": 5,
   "metadata": {},
   "outputs": [
    {
     "ename": "FileNotFoundError",
     "evalue": "[Errno 2] File ./datasets/globalterrorismcsv.csv does not exist: './datasets/globalterrorismcsv.csv'",
     "output_type": "error",
     "traceback": [
      "\u001b[0;31m----------------------------------------\u001b[0m",
      "\u001b[0;31mFileNotFoundError\u001b[0mTraceback (most recent call last)",
      "\u001b[0;32m<ipython-input-5-9f91638d4f49>\u001b[0m in \u001b[0;36m<module>\u001b[0;34m\u001b[0m\n\u001b[0;32m----> 1\u001b[0;31m \u001b[0mdf\u001b[0m \u001b[0;34m=\u001b[0m \u001b[0mpd\u001b[0m\u001b[0;34m.\u001b[0m\u001b[0mread_csv\u001b[0m\u001b[0;34m(\u001b[0m\u001b[0;34m\"./datasets/globalterrorismcsv.csv\"\u001b[0m\u001b[0;34m)\u001b[0m\u001b[0;34m\u001b[0m\u001b[0;34m\u001b[0m\u001b[0m\n\u001b[0m\u001b[1;32m      2\u001b[0m \u001b[0mdf\u001b[0m\u001b[0;34m.\u001b[0m\u001b[0mhead\u001b[0m\u001b[0;34m(\u001b[0m\u001b[0;34m)\u001b[0m\u001b[0;34m\u001b[0m\u001b[0;34m\u001b[0m\u001b[0m\n",
      "\u001b[0;32m~/.local/lib/python3.8/site-packages/pandas/io/parsers.py\u001b[0m in \u001b[0;36mparser_f\u001b[0;34m(filepath_or_buffer, sep, delimiter, header, names, index_col, usecols, squeeze, prefix, mangle_dupe_cols, dtype, engine, converters, true_values, false_values, skipinitialspace, skiprows, skipfooter, nrows, na_values, keep_default_na, na_filter, verbose, skip_blank_lines, parse_dates, infer_datetime_format, keep_date_col, date_parser, dayfirst, cache_dates, iterator, chunksize, compression, thousands, decimal, lineterminator, quotechar, quoting, doublequote, escapechar, comment, encoding, dialect, error_bad_lines, warn_bad_lines, delim_whitespace, low_memory, memory_map, float_precision)\u001b[0m\n\u001b[1;32m    674\u001b[0m         )\n\u001b[1;32m    675\u001b[0m \u001b[0;34m\u001b[0m\u001b[0m\n\u001b[0;32m--> 676\u001b[0;31m         \u001b[0;32mreturn\u001b[0m \u001b[0m_read\u001b[0m\u001b[0;34m(\u001b[0m\u001b[0mfilepath_or_buffer\u001b[0m\u001b[0;34m,\u001b[0m \u001b[0mkwds\u001b[0m\u001b[0;34m)\u001b[0m\u001b[0;34m\u001b[0m\u001b[0;34m\u001b[0m\u001b[0m\n\u001b[0m\u001b[1;32m    677\u001b[0m \u001b[0;34m\u001b[0m\u001b[0m\n\u001b[1;32m    678\u001b[0m     \u001b[0mparser_f\u001b[0m\u001b[0;34m.\u001b[0m\u001b[0m__name__\u001b[0m \u001b[0;34m=\u001b[0m \u001b[0mname\u001b[0m\u001b[0;34m\u001b[0m\u001b[0;34m\u001b[0m\u001b[0m\n",
      "\u001b[0;32m~/.local/lib/python3.8/site-packages/pandas/io/parsers.py\u001b[0m in \u001b[0;36m_read\u001b[0;34m(filepath_or_buffer, kwds)\u001b[0m\n\u001b[1;32m    446\u001b[0m \u001b[0;34m\u001b[0m\u001b[0m\n\u001b[1;32m    447\u001b[0m     \u001b[0;31m# Create the parser.\u001b[0m\u001b[0;34m\u001b[0m\u001b[0;34m\u001b[0m\u001b[0;34m\u001b[0m\u001b[0m\n\u001b[0;32m--> 448\u001b[0;31m     \u001b[0mparser\u001b[0m \u001b[0;34m=\u001b[0m \u001b[0mTextFileReader\u001b[0m\u001b[0;34m(\u001b[0m\u001b[0mfp_or_buf\u001b[0m\u001b[0;34m,\u001b[0m \u001b[0;34m**\u001b[0m\u001b[0mkwds\u001b[0m\u001b[0;34m)\u001b[0m\u001b[0;34m\u001b[0m\u001b[0;34m\u001b[0m\u001b[0m\n\u001b[0m\u001b[1;32m    449\u001b[0m \u001b[0;34m\u001b[0m\u001b[0m\n\u001b[1;32m    450\u001b[0m     \u001b[0;32mif\u001b[0m \u001b[0mchunksize\u001b[0m \u001b[0;32mor\u001b[0m \u001b[0miterator\u001b[0m\u001b[0;34m:\u001b[0m\u001b[0;34m\u001b[0m\u001b[0;34m\u001b[0m\u001b[0m\n",
      "\u001b[0;32m~/.local/lib/python3.8/site-packages/pandas/io/parsers.py\u001b[0m in \u001b[0;36m__init__\u001b[0;34m(self, f, engine, **kwds)\u001b[0m\n\u001b[1;32m    878\u001b[0m             \u001b[0mself\u001b[0m\u001b[0;34m.\u001b[0m\u001b[0moptions\u001b[0m\u001b[0;34m[\u001b[0m\u001b[0;34m\"has_index_names\"\u001b[0m\u001b[0;34m]\u001b[0m \u001b[0;34m=\u001b[0m \u001b[0mkwds\u001b[0m\u001b[0;34m[\u001b[0m\u001b[0;34m\"has_index_names\"\u001b[0m\u001b[0;34m]\u001b[0m\u001b[0;34m\u001b[0m\u001b[0;34m\u001b[0m\u001b[0m\n\u001b[1;32m    879\u001b[0m \u001b[0;34m\u001b[0m\u001b[0m\n\u001b[0;32m--> 880\u001b[0;31m         \u001b[0mself\u001b[0m\u001b[0;34m.\u001b[0m\u001b[0m_make_engine\u001b[0m\u001b[0;34m(\u001b[0m\u001b[0mself\u001b[0m\u001b[0;34m.\u001b[0m\u001b[0mengine\u001b[0m\u001b[0;34m)\u001b[0m\u001b[0;34m\u001b[0m\u001b[0;34m\u001b[0m\u001b[0m\n\u001b[0m\u001b[1;32m    881\u001b[0m \u001b[0;34m\u001b[0m\u001b[0m\n\u001b[1;32m    882\u001b[0m     \u001b[0;32mdef\u001b[0m \u001b[0mclose\u001b[0m\u001b[0;34m(\u001b[0m\u001b[0mself\u001b[0m\u001b[0;34m)\u001b[0m\u001b[0;34m:\u001b[0m\u001b[0;34m\u001b[0m\u001b[0;34m\u001b[0m\u001b[0m\n",
      "\u001b[0;32m~/.local/lib/python3.8/site-packages/pandas/io/parsers.py\u001b[0m in \u001b[0;36m_make_engine\u001b[0;34m(self, engine)\u001b[0m\n\u001b[1;32m   1112\u001b[0m     \u001b[0;32mdef\u001b[0m \u001b[0m_make_engine\u001b[0m\u001b[0;34m(\u001b[0m\u001b[0mself\u001b[0m\u001b[0;34m,\u001b[0m \u001b[0mengine\u001b[0m\u001b[0;34m=\u001b[0m\u001b[0;34m\"c\"\u001b[0m\u001b[0;34m)\u001b[0m\u001b[0;34m:\u001b[0m\u001b[0;34m\u001b[0m\u001b[0;34m\u001b[0m\u001b[0m\n\u001b[1;32m   1113\u001b[0m         \u001b[0;32mif\u001b[0m \u001b[0mengine\u001b[0m \u001b[0;34m==\u001b[0m \u001b[0;34m\"c\"\u001b[0m\u001b[0;34m:\u001b[0m\u001b[0;34m\u001b[0m\u001b[0;34m\u001b[0m\u001b[0m\n\u001b[0;32m-> 1114\u001b[0;31m             \u001b[0mself\u001b[0m\u001b[0;34m.\u001b[0m\u001b[0m_engine\u001b[0m \u001b[0;34m=\u001b[0m \u001b[0mCParserWrapper\u001b[0m\u001b[0;34m(\u001b[0m\u001b[0mself\u001b[0m\u001b[0;34m.\u001b[0m\u001b[0mf\u001b[0m\u001b[0;34m,\u001b[0m \u001b[0;34m**\u001b[0m\u001b[0mself\u001b[0m\u001b[0;34m.\u001b[0m\u001b[0moptions\u001b[0m\u001b[0;34m)\u001b[0m\u001b[0;34m\u001b[0m\u001b[0;34m\u001b[0m\u001b[0m\n\u001b[0m\u001b[1;32m   1115\u001b[0m         \u001b[0;32melse\u001b[0m\u001b[0;34m:\u001b[0m\u001b[0;34m\u001b[0m\u001b[0;34m\u001b[0m\u001b[0m\n\u001b[1;32m   1116\u001b[0m             \u001b[0;32mif\u001b[0m \u001b[0mengine\u001b[0m \u001b[0;34m==\u001b[0m \u001b[0;34m\"python\"\u001b[0m\u001b[0;34m:\u001b[0m\u001b[0;34m\u001b[0m\u001b[0;34m\u001b[0m\u001b[0m\n",
      "\u001b[0;32m~/.local/lib/python3.8/site-packages/pandas/io/parsers.py\u001b[0m in \u001b[0;36m__init__\u001b[0;34m(self, src, **kwds)\u001b[0m\n\u001b[1;32m   1889\u001b[0m         \u001b[0mkwds\u001b[0m\u001b[0;34m[\u001b[0m\u001b[0;34m\"usecols\"\u001b[0m\u001b[0;34m]\u001b[0m \u001b[0;34m=\u001b[0m \u001b[0mself\u001b[0m\u001b[0;34m.\u001b[0m\u001b[0musecols\u001b[0m\u001b[0;34m\u001b[0m\u001b[0;34m\u001b[0m\u001b[0m\n\u001b[1;32m   1890\u001b[0m \u001b[0;34m\u001b[0m\u001b[0m\n\u001b[0;32m-> 1891\u001b[0;31m         \u001b[0mself\u001b[0m\u001b[0;34m.\u001b[0m\u001b[0m_reader\u001b[0m \u001b[0;34m=\u001b[0m \u001b[0mparsers\u001b[0m\u001b[0;34m.\u001b[0m\u001b[0mTextReader\u001b[0m\u001b[0;34m(\u001b[0m\u001b[0msrc\u001b[0m\u001b[0;34m,\u001b[0m \u001b[0;34m**\u001b[0m\u001b[0mkwds\u001b[0m\u001b[0;34m)\u001b[0m\u001b[0;34m\u001b[0m\u001b[0;34m\u001b[0m\u001b[0m\n\u001b[0m\u001b[1;32m   1892\u001b[0m         \u001b[0mself\u001b[0m\u001b[0;34m.\u001b[0m\u001b[0munnamed_cols\u001b[0m \u001b[0;34m=\u001b[0m \u001b[0mself\u001b[0m\u001b[0;34m.\u001b[0m\u001b[0m_reader\u001b[0m\u001b[0;34m.\u001b[0m\u001b[0munnamed_cols\u001b[0m\u001b[0;34m\u001b[0m\u001b[0;34m\u001b[0m\u001b[0m\n\u001b[1;32m   1893\u001b[0m \u001b[0;34m\u001b[0m\u001b[0m\n",
      "\u001b[0;32mpandas/_libs/parsers.pyx\u001b[0m in \u001b[0;36mpandas._libs.parsers.TextReader.__cinit__\u001b[0;34m()\u001b[0m\n",
      "\u001b[0;32mpandas/_libs/parsers.pyx\u001b[0m in \u001b[0;36mpandas._libs.parsers.TextReader._setup_parser_source\u001b[0;34m()\u001b[0m\n",
      "\u001b[0;31mFileNotFoundError\u001b[0m: [Errno 2] File ./datasets/globalterrorismcsv.csv does not exist: './datasets/globalterrorismcsv.csv'"
     ]
    }
   ],
   "source": [
    "df = pd.read_csv(\"./datasets/globalterrorismcsv.csv\")\n",
    "df.head()"
   ]
  },
  {
   "cell_type": "code",
   "execution_count": 4,
   "metadata": {},
   "outputs": [
    {
     "data": {
      "text/plain": [
       "(191464, 135)"
      ]
     },
     "execution_count": 4,
     "metadata": {},
     "output_type": "execute_result"
    }
   ],
   "source": [
    "data.shape"
   ]
  },
  {
   "cell_type": "markdown",
   "metadata": {},
   "source": [
    "# Data Exploration\n",
    "#### Almost 200,000 data entries accross 135 columns\n",
    "#### Explore columns relative to asked questions"
   ]
  },
  {
   "cell_type": "code",
   "execution_count": 76,
   "metadata": {
    "scrolled": true
   },
   "outputs": [
    {
     "name": "stdout",
     "output_type": "stream",
     "text": [
      "0 : eventid\n",
      "1 : iyear\n",
      "2 : imonth\n",
      "3 : iday\n",
      "4 : approxdate\n",
      "5 : extended\n",
      "6 : resolution\n",
      "7 : country\n",
      "8 : country_txt\n",
      "9 : region\n",
      "10 : region_txt\n",
      "11 : provstate\n",
      "12 : city\n",
      "13 : latitude\n",
      "14 : longitude\n",
      "15 : specificity\n",
      "16 : vicinity\n",
      "17 : location\n",
      "18 : summary\n",
      "19 : crit1\n",
      "20 : crit2\n",
      "21 : crit3\n",
      "22 : doubtterr\n",
      "23 : alternative\n",
      "24 : alternative_txt\n",
      "25 : multiple\n",
      "26 : success\n",
      "27 : suicide\n",
      "28 : attacktype1\n",
      "29 : attacktype1_txt\n",
      "30 : attacktype2\n",
      "31 : attacktype2_txt\n",
      "32 : attacktype3\n",
      "33 : attacktype3_txt\n",
      "34 : targtype1\n",
      "35 : targtype1_txt\n",
      "36 : targsubtype1\n",
      "37 : targsubtype1_txt\n",
      "38 : corp1\n",
      "39 : target1\n",
      "40 : natlty1\n",
      "41 : natlty1_txt\n",
      "42 : targtype2\n",
      "43 : targtype2_txt\n",
      "44 : targsubtype2\n",
      "45 : targsubtype2_txt\n",
      "46 : corp2\n",
      "47 : target2\n",
      "48 : natlty2\n",
      "49 : natlty2_txt\n",
      "50 : targtype3\n",
      "51 : targtype3_txt\n",
      "52 : targsubtype3\n",
      "53 : targsubtype3_txt\n",
      "54 : corp3\n",
      "55 : target3\n",
      "56 : natlty3\n",
      "57 : natlty3_txt\n",
      "58 : gname\n",
      "59 : gsubname\n",
      "60 : gname2\n",
      "61 : gsubname2\n",
      "62 : gname3\n",
      "63 : gsubname3\n",
      "64 : motive\n",
      "65 : guncertain1\n",
      "66 : guncertain2\n",
      "67 : guncertain3\n",
      "68 : individual\n",
      "69 : nperps\n",
      "70 : nperpcap\n",
      "71 : claimed\n",
      "72 : claimmode\n",
      "73 : claimmode_txt\n",
      "74 : claim2\n",
      "75 : claimmode2\n",
      "76 : claimmode2_txt\n",
      "77 : claim3\n",
      "78 : claimmode3\n",
      "79 : claimmode3_txt\n",
      "80 : compclaim\n",
      "81 : weaptype1\n",
      "82 : weaptype1_txt\n",
      "83 : weapsubtype1\n",
      "84 : weapsubtype1_txt\n",
      "85 : weaptype2\n",
      "86 : weaptype2_txt\n",
      "87 : weapsubtype2\n",
      "88 : weapsubtype2_txt\n",
      "89 : weaptype3\n",
      "90 : weaptype3_txt\n",
      "91 : weapsubtype3\n",
      "92 : weapsubtype3_txt\n",
      "93 : weaptype4\n",
      "94 : weaptype4_txt\n",
      "95 : weapsubtype4\n",
      "96 : weapsubtype4_txt\n",
      "97 : weapdetail\n",
      "98 : nkill\n",
      "99 : nkillus\n",
      "100 : nkillter\n",
      "101 : nwound\n",
      "102 : nwoundus\n",
      "103 : nwoundte\n",
      "104 : property\n",
      "105 : propextent\n",
      "106 : propextent_txt\n",
      "107 : propvalue\n",
      "108 : propcomment\n",
      "109 : ishostkid\n",
      "110 : nhostkid\n",
      "111 : nhostkidus\n",
      "112 : nhours\n",
      "113 : ndays\n",
      "114 : divert\n",
      "115 : kidhijcountry\n",
      "116 : ransom\n",
      "117 : ransomamt\n",
      "118 : ransomamtus\n",
      "119 : ransompaid\n",
      "120 : ransompaidus\n",
      "121 : ransomnote\n",
      "122 : hostkidoutcome\n",
      "123 : hostkidoutcome_txt\n",
      "124 : nreleased\n",
      "125 : addnotes\n",
      "126 : scite1\n",
      "127 : scite2\n",
      "128 : scite3\n",
      "129 : dbsource\n",
      "130 : INT_LOG\n",
      "131 : INT_IDEO\n",
      "132 : INT_MISC\n",
      "133 : INT_ANY\n",
      "134 : related\n"
     ]
    }
   ],
   "source": [
    "for i in range(135):\n",
    "    print(i, \":\", data.columns[i])"
   ]
  },
  {
   "cell_type": "markdown",
   "metadata": {},
   "source": [
    "## Quick Potentially useful Attribute overview:\n",
    "\n",
    "Many attributes have two columns associated one for the text value and another for an indexed version of that value.\n",
    "eg. 7: country & 8: country_txt, country_txt contains (Australia), country countains an indexed value for it (5).\n",
    "\n",
    "### Time: 1-6\n",
    "#### Attributes relating to date and length of attack\n",
    "0 : eventid - Unique identifier, combines date and count on that date  \n",
    "1 : iyear  \n",
    "2 : imonth  \n",
    "3 : iday  \n",
    "5 : extended - Does the event extend over a 24hr period  \n",
    "6 : resolution - If extended the end date  \n",
    "\n",
    "### Location: 7-17\n",
    "#### Attributes relating to location and area of attack\n",
    "7,8 : country & country_txt  \n",
    "9,10 : region & region_txt - eg. South Asia, Middle East & North Africa  \n",
    "11, 12 : provstate & city - Province and city  \n",
    "13-15 : latitude & longitude  \n",
    "\n",
    "### Classification: 18-27\n",
    "#### Attributes relating to classification of attack\n",
    "18 : summary - Text summary  \n",
    "19 : crit1 - Binary, Profit motivated - politics, economic, religious  \n",
    "20 : crit2 - Binary, Coercion, intimidation, gain audience  \n",
    "21 : crit3 - Binary, Targets non-combatants, breaks geneva conventions  \n",
    "22 : doubtterr - Binary, is there doubt about if it is an act of terrorism  \n",
    "23,24 : alternative - If there is doubt potential other reason for incident  \n",
    "25 : multiple - Binary, Part of a multi incident event\n",
    "\n",
    "### Attack: 26-33\n",
    "#### Attributes relating to the type and outcome of attack\n",
    "26 : success - Binary, Was the attack successful  \n",
    "27 : suicide - Binary, Evidence perpetrator did not intend to escape  \n",
    "28-33 : attacktype# 1-3 - Method or tactics of attack, 2&3 used if sequence of events  \n",
    "\n",
    "### Target: 34-57\n",
    "#### Attributes relating to target of attacks\n",
    "34,35 : targtype - 22 catagories, general type of target (Business, Police)  \n",
    "36,37 : targsubtype - 100+ subcatagories, specific target (Restaurant, Hotel)  \n",
    "40,41 : natlty - catagorical, Nationality of target attacked  \n",
    "42-57 : targtype# 2&3 - Additional targets  \n",
    "\n",
    "### Perpetrator: 58-80\n",
    "#### Attributes relating to perpretrators of attack\n",
    "58 : gname - Text, Name of group  \n",
    "59 : gsubname  \n",
    "60-63 : gname# 2&3  \n",
    "65,66,67 : guncertain# 1,2,3 - Gname based on speculation or dubious claims  \n",
    "68 : individaul - Binary, Carried out by individual  \n",
    "69 : nperps - Numerical, Number of terrorists participating  \n",
    "70 : nperpcap - Numerical, Number of terrosists captured  \n",
    "\n",
    "### Weapon: 81-97\n",
    "#### Four weapon types recorded  \n",
    "81,82 : weaptype - 13 weapon catagoried  \n",
    "83,84 : weapsubtype - More specific weapon type  \n",
    "85-96 : weaptype# 2-4  \n",
    "\n",
    "### Casualties & Consequences: 98-124\n",
    "#### Fatalities and Damages\n",
    "98 : nkill - Numerical, number of fatalities  \n",
    "100 : nkillter - Numerical, number of perpetrator fatalities  \n",
    "101 : nwound - Numerical, number of non-fatal injuries  \n",
    "103 : nwoundte - Numerical, number of non-fatal perpetrator injuries  \n",
    "104 : property - Binary, evidence of property damage  \n",
    "105,106 : propextent - 4 catagories, extend of property damage  \n",
    "109 : ishostkid - Binary, where hostages taken  \n",
    "110 : nhostkid - Numerical, Number of hostages taken  \n",
    "116 : ransom - Binary, Was a ransom demanded  \n",
    "119 : ransompaid - Numerical, how much ransom was paid  \n",
    "122,123 : hostkidoutcome - Categorical, outcome of hostage situation  \n",
    "124 : nreleased - Numerical, number of hostages released  \n"
   ]
  },
  {
   "cell_type": "markdown",
   "metadata": {},
   "source": [
    "## Doubterr:\n"
   ]
  },
  {
   "cell_type": "code",
   "execution_count": 56,
   "metadata": {},
   "outputs": [
    {
     "name": "stdout",
     "output_type": "stream",
     "text": [
      " 0    146619\n",
      " 1     31060\n",
      "-9     13785\n",
      "Name: doubtterr, dtype: int64\n"
     ]
    }
   ],
   "source": [
    "print(data['doubtterr'].value_counts())"
   ]
  },
  {
   "cell_type": "code",
   "execution_count": 55,
   "metadata": {},
   "outputs": [
    {
     "data": {
      "text/html": [
       "<div>\n",
       "<style scoped>\n",
       "    .dataframe tbody tr th:only-of-type {\n",
       "        vertical-align: middle;\n",
       "    }\n",
       "\n",
       "    .dataframe tbody tr th {\n",
       "        vertical-align: top;\n",
       "    }\n",
       "\n",
       "    .dataframe thead th {\n",
       "        text-align: right;\n",
       "    }\n",
       "</style>\n",
       "<table border=\"1\" class=\"dataframe\">\n",
       "  <thead>\n",
       "    <tr style=\"text-align: right;\">\n",
       "      <th></th>\n",
       "      <th>eventid</th>\n",
       "      <th>iyear</th>\n",
       "      <th>imonth</th>\n",
       "      <th>iday</th>\n",
       "      <th>approxdate</th>\n",
       "      <th>extended</th>\n",
       "      <th>resolution</th>\n",
       "      <th>country</th>\n",
       "      <th>country_txt</th>\n",
       "      <th>region</th>\n",
       "      <th>...</th>\n",
       "      <th>addnotes</th>\n",
       "      <th>scite1</th>\n",
       "      <th>scite2</th>\n",
       "      <th>scite3</th>\n",
       "      <th>dbsource</th>\n",
       "      <th>INT_LOG</th>\n",
       "      <th>INT_IDEO</th>\n",
       "      <th>INT_MISC</th>\n",
       "      <th>INT_ANY</th>\n",
       "      <th>related</th>\n",
       "    </tr>\n",
       "  </thead>\n",
       "  <tbody>\n",
       "    <tr>\n",
       "      <th>0</th>\n",
       "      <td>197000000001</td>\n",
       "      <td>1970</td>\n",
       "      <td>7</td>\n",
       "      <td>2</td>\n",
       "      <td>NaN</td>\n",
       "      <td>0</td>\n",
       "      <td>NaT</td>\n",
       "      <td>58</td>\n",
       "      <td>Dominican Republic</td>\n",
       "      <td>2</td>\n",
       "      <td>...</td>\n",
       "      <td>NaN</td>\n",
       "      <td>NaN</td>\n",
       "      <td>NaN</td>\n",
       "      <td>NaN</td>\n",
       "      <td>PGIS</td>\n",
       "      <td>0</td>\n",
       "      <td>0</td>\n",
       "      <td>0</td>\n",
       "      <td>0</td>\n",
       "      <td>NaN</td>\n",
       "    </tr>\n",
       "    <tr>\n",
       "      <th>1</th>\n",
       "      <td>197000000002</td>\n",
       "      <td>1970</td>\n",
       "      <td>0</td>\n",
       "      <td>0</td>\n",
       "      <td>NaN</td>\n",
       "      <td>0</td>\n",
       "      <td>NaT</td>\n",
       "      <td>130</td>\n",
       "      <td>Mexico</td>\n",
       "      <td>1</td>\n",
       "      <td>...</td>\n",
       "      <td>NaN</td>\n",
       "      <td>NaN</td>\n",
       "      <td>NaN</td>\n",
       "      <td>NaN</td>\n",
       "      <td>PGIS</td>\n",
       "      <td>0</td>\n",
       "      <td>1</td>\n",
       "      <td>1</td>\n",
       "      <td>1</td>\n",
       "      <td>NaN</td>\n",
       "    </tr>\n",
       "    <tr>\n",
       "      <th>2</th>\n",
       "      <td>197001000001</td>\n",
       "      <td>1970</td>\n",
       "      <td>1</td>\n",
       "      <td>0</td>\n",
       "      <td>NaN</td>\n",
       "      <td>0</td>\n",
       "      <td>NaT</td>\n",
       "      <td>160</td>\n",
       "      <td>Philippines</td>\n",
       "      <td>5</td>\n",
       "      <td>...</td>\n",
       "      <td>NaN</td>\n",
       "      <td>NaN</td>\n",
       "      <td>NaN</td>\n",
       "      <td>NaN</td>\n",
       "      <td>PGIS</td>\n",
       "      <td>-9</td>\n",
       "      <td>-9</td>\n",
       "      <td>1</td>\n",
       "      <td>1</td>\n",
       "      <td>NaN</td>\n",
       "    </tr>\n",
       "    <tr>\n",
       "      <th>3</th>\n",
       "      <td>197001000002</td>\n",
       "      <td>1970</td>\n",
       "      <td>1</td>\n",
       "      <td>0</td>\n",
       "      <td>NaN</td>\n",
       "      <td>0</td>\n",
       "      <td>NaT</td>\n",
       "      <td>78</td>\n",
       "      <td>Greece</td>\n",
       "      <td>8</td>\n",
       "      <td>...</td>\n",
       "      <td>NaN</td>\n",
       "      <td>NaN</td>\n",
       "      <td>NaN</td>\n",
       "      <td>NaN</td>\n",
       "      <td>PGIS</td>\n",
       "      <td>-9</td>\n",
       "      <td>-9</td>\n",
       "      <td>1</td>\n",
       "      <td>1</td>\n",
       "      <td>NaN</td>\n",
       "    </tr>\n",
       "    <tr>\n",
       "      <th>4</th>\n",
       "      <td>197001000003</td>\n",
       "      <td>1970</td>\n",
       "      <td>1</td>\n",
       "      <td>0</td>\n",
       "      <td>NaN</td>\n",
       "      <td>0</td>\n",
       "      <td>NaT</td>\n",
       "      <td>101</td>\n",
       "      <td>Japan</td>\n",
       "      <td>4</td>\n",
       "      <td>...</td>\n",
       "      <td>NaN</td>\n",
       "      <td>NaN</td>\n",
       "      <td>NaN</td>\n",
       "      <td>NaN</td>\n",
       "      <td>PGIS</td>\n",
       "      <td>-9</td>\n",
       "      <td>-9</td>\n",
       "      <td>1</td>\n",
       "      <td>1</td>\n",
       "      <td>NaN</td>\n",
       "    </tr>\n",
       "  </tbody>\n",
       "</table>\n",
       "<p>5 rows × 135 columns</p>\n",
       "</div>"
      ],
      "text/plain": [
       "        eventid  iyear  imonth  iday approxdate  extended resolution  country  \\\n",
       "0  197000000001   1970       7     2        NaN         0        NaT       58   \n",
       "1  197000000002   1970       0     0        NaN         0        NaT      130   \n",
       "2  197001000001   1970       1     0        NaN         0        NaT      160   \n",
       "3  197001000002   1970       1     0        NaN         0        NaT       78   \n",
       "4  197001000003   1970       1     0        NaN         0        NaT      101   \n",
       "\n",
       "          country_txt  region  ... addnotes scite1 scite2  scite3  dbsource  \\\n",
       "0  Dominican Republic       2  ...      NaN    NaN    NaN     NaN      PGIS   \n",
       "1              Mexico       1  ...      NaN    NaN    NaN     NaN      PGIS   \n",
       "2         Philippines       5  ...      NaN    NaN    NaN     NaN      PGIS   \n",
       "3              Greece       8  ...      NaN    NaN    NaN     NaN      PGIS   \n",
       "4               Japan       4  ...      NaN    NaN    NaN     NaN      PGIS   \n",
       "\n",
       "   INT_LOG  INT_IDEO INT_MISC INT_ANY  related  \n",
       "0        0         0        0       0      NaN  \n",
       "1        0         1        1       1      NaN  \n",
       "2       -9        -9        1       1      NaN  \n",
       "3       -9        -9        1       1      NaN  \n",
       "4       -9        -9        1       1      NaN  \n",
       "\n",
       "[5 rows x 135 columns]"
      ]
     },
     "execution_count": 55,
     "metadata": {},
     "output_type": "execute_result"
    }
   ],
   "source": []
  },
  {
   "cell_type": "code",
   "execution_count": 16,
   "metadata": {
    "scrolled": false
   },
   "outputs": [
    {
     "name": "stdout",
     "output_type": "stream",
     "text": [
      "Insurgency/Guerilla Action    25142\n",
      "Other Crime Type               3801\n",
      "Intra/Inter-group Conflict     1356\n",
      "State Actors                    403\n",
      "Lack of Intentionality          368\n",
      "Name: alternative_txt, dtype: int64\n"
     ]
    }
   ],
   "source": [
    "print(data['alternative_txt'].value_counts())"
   ]
  },
  {
   "cell_type": "code",
   "execution_count": 47,
   "metadata": {},
   "outputs": [
    {
     "name": "stdout",
     "output_type": "stream",
     "text": [
      "Baghdad               7832\n",
      "Northern Ireland      4583\n",
      "Unknown               4340\n",
      "Balochistan           3911\n",
      "Saladin               3631\n",
      "                      ... \n",
      "Pavlodar                 1\n",
      "Kosovo and Metojia       1\n",
      "Madaba                   1\n",
      "Coronie                  1\n",
      "Chongqing                1\n",
      "Name: provstate, Length: 2579, dtype: int64\n"
     ]
    }
   ],
   "source": [
    "print(data['provstate'].value_counts())"
   ]
  },
  {
   "cell_type": "code",
   "execution_count": 16,
   "metadata": {},
   "outputs": [
    {
     "data": {
      "text/plain": [
       "(181691, 36)"
      ]
     },
     "execution_count": 16,
     "metadata": {},
     "output_type": "execute_result"
    }
   ],
   "source": [
    "attributes = ['eventid', 'iyear', 'imonth', 'iday', 'extended',\n",
    "             'country', 'region',\n",
    "             'crit1', 'crit2', 'crit3',\n",
    "             'success', 'suicide', 'attacktype1', 'attacktype2',\n",
    "             'targtype1', 'targtype2', 'targsubtype1', 'targsubtype2',\n",
    "             'natlty1', 'natlty2',\n",
    "             'gname', 'gsubname' , 'individual', 'nperps',\n",
    "             'weaptype1', 'weaptype2', 'weaptype3', 'weapsubtype1', 'weapsubtype2', 'weapsubtype3',\n",
    "             'nkill', 'nkillter', 'nwound', 'nwoundte', 'property', 'propextent']\n",
    "data2 = data[attributes]\n",
    "data2.shape"
   ]
  },
  {
   "cell_type": "code",
   "execution_count": 18,
   "metadata": {},
   "outputs": [
    {
     "data": {
      "text/plain": [
       "<matplotlib.axes._subplots.AxesSubplot at 0x7f6ce408e3d0>"
      ]
     },
     "execution_count": 18,
     "metadata": {},
     "output_type": "execute_result"
    },
    {
     "data": {
      "image/png": "[encoded data removed]",
      "text/plain": [
       "<Figure size 432x288 with 1 Axes>"
      ]
     },
     "metadata": {},
     "output_type": "display_data"
    }
   ],
   "source": [
    "sns.distplot(df['imonth'],kde=False)"
   ]
  },
  {
   "cell_type": "code",
   "execution_count": 43,
   "metadata": {},
   "outputs": [
    {
     "name": "stderr",
     "output_type": "stream",
     "text": [
      "/home/matcha/.local/lib/python3.8/site-packages/numpy/core/_asarray.py:83: VisibleDeprecationWarning: Creating an ndarray from ragged nested sequences (which is a list-or-tuple of lists-or-tuples-or ndarrays with different lengths or shapes) is deprecated. If you meant to do this, you must specify 'dtype=object' when creating the ndarray\n",
      "  return array(a, dtype, copy=False, order=order)\n"
     ]
    },
    {
     "data": {
      "image/png": "[encoded data removed]",
      "text/plain": [
       "<Figure size 432x288 with 1 Axes>"
      ]
     },
     "metadata": {},
     "output_type": "display_data"
    }
   ],
   "source": [
    "plt.boxplot = data.boxplot(column='iyear', by = 'region', showfliers=False)\n",
    "plt.legend(labels=[\"1 asia\", \"2 middle east\"],loc='upper right')\n",
    "plt.show()\n"
   ]
  },
  {
   "cell_type": "code",
   "execution_count": 44,
   "metadata": {},
   "outputs": [
    {
     "data": {
      "text/html": [
       "<div>\n",
       "<style scoped>\n",
       "    .dataframe tbody tr th:only-of-type {\n",
       "        vertical-align: middle;\n",
       "    }\n",
       "\n",
       "    .dataframe tbody tr th {\n",
       "        vertical-align: top;\n",
       "    }\n",
       "\n",
       "    .dataframe thead th {\n",
       "        text-align: right;\n",
       "    }\n",
       "</style>\n",
       "<table border=\"1\" class=\"dataframe\">\n",
       "  <thead>\n",
       "    <tr style=\"text-align: right;\">\n",
       "      <th></th>\n",
       "      <th>eventid</th>\n",
       "      <th>iyear</th>\n",
       "      <th>imonth</th>\n",
       "      <th>iday</th>\n",
       "      <th>approxdate</th>\n",
       "      <th>extended</th>\n",
       "      <th>resolution</th>\n",
       "      <th>country</th>\n",
       "      <th>country_txt</th>\n",
       "      <th>region</th>\n",
       "      <th>...</th>\n",
       "      <th>addnotes</th>\n",
       "      <th>scite1</th>\n",
       "      <th>scite2</th>\n",
       "      <th>scite3</th>\n",
       "      <th>dbsource</th>\n",
       "      <th>INT_LOG</th>\n",
       "      <th>INT_IDEO</th>\n",
       "      <th>INT_MISC</th>\n",
       "      <th>INT_ANY</th>\n",
       "      <th>related</th>\n",
       "    </tr>\n",
       "  </thead>\n",
       "  <tbody>\n",
       "    <tr>\n",
       "      <th>0</th>\n",
       "      <td>197000000001</td>\n",
       "      <td>1970</td>\n",
       "      <td>7</td>\n",
       "      <td>2</td>\n",
       "      <td>NaN</td>\n",
       "      <td>0</td>\n",
       "      <td>NaN</td>\n",
       "      <td>58</td>\n",
       "      <td>Dominican Republic</td>\n",
       "      <td>2</td>\n",
       "      <td>...</td>\n",
       "      <td>NaN</td>\n",
       "      <td>NaN</td>\n",
       "      <td>NaN</td>\n",
       "      <td>NaN</td>\n",
       "      <td>PGIS</td>\n",
       "      <td>0</td>\n",
       "      <td>0</td>\n",
       "      <td>0</td>\n",
       "      <td>0</td>\n",
       "      <td>NaN</td>\n",
       "    </tr>\n",
       "    <tr>\n",
       "      <th>1</th>\n",
       "      <td>197000000002</td>\n",
       "      <td>1970</td>\n",
       "      <td>0</td>\n",
       "      <td>0</td>\n",
       "      <td>NaN</td>\n",
       "      <td>0</td>\n",
       "      <td>NaN</td>\n",
       "      <td>130</td>\n",
       "      <td>Mexico</td>\n",
       "      <td>1</td>\n",
       "      <td>...</td>\n",
       "      <td>NaN</td>\n",
       "      <td>NaN</td>\n",
       "      <td>NaN</td>\n",
       "      <td>NaN</td>\n",
       "      <td>PGIS</td>\n",
       "      <td>0</td>\n",
       "      <td>1</td>\n",
       "      <td>1</td>\n",
       "      <td>1</td>\n",
       "      <td>NaN</td>\n",
       "    </tr>\n",
       "    <tr>\n",
       "      <th>2</th>\n",
       "      <td>197001000001</td>\n",
       "      <td>1970</td>\n",
       "      <td>1</td>\n",
       "      <td>0</td>\n",
       "      <td>NaN</td>\n",
       "      <td>0</td>\n",
       "      <td>NaN</td>\n",
       "      <td>160</td>\n",
       "      <td>Philippines</td>\n",
       "      <td>5</td>\n",
       "      <td>...</td>\n",
       "      <td>NaN</td>\n",
       "      <td>NaN</td>\n",
       "      <td>NaN</td>\n",
       "      <td>NaN</td>\n",
       "      <td>PGIS</td>\n",
       "      <td>-9</td>\n",
       "      <td>-9</td>\n",
       "      <td>1</td>\n",
       "      <td>1</td>\n",
       "      <td>NaN</td>\n",
       "    </tr>\n",
       "    <tr>\n",
       "      <th>3</th>\n",
       "      <td>197001000002</td>\n",
       "      <td>1970</td>\n",
       "      <td>1</td>\n",
       "      <td>0</td>\n",
       "      <td>NaN</td>\n",
       "      <td>0</td>\n",
       "      <td>NaN</td>\n",
       "      <td>78</td>\n",
       "      <td>Greece</td>\n",
       "      <td>8</td>\n",
       "      <td>...</td>\n",
       "      <td>NaN</td>\n",
       "      <td>NaN</td>\n",
       "      <td>NaN</td>\n",
       "      <td>NaN</td>\n",
       "      <td>PGIS</td>\n",
       "      <td>-9</td>\n",
       "      <td>-9</td>\n",
       "      <td>1</td>\n",
       "      <td>1</td>\n",
       "      <td>NaN</td>\n",
       "    </tr>\n",
       "    <tr>\n",
       "      <th>4</th>\n",
       "      <td>197001000003</td>\n",
       "      <td>1970</td>\n",
       "      <td>1</td>\n",
       "      <td>0</td>\n",
       "      <td>NaN</td>\n",
       "      <td>0</td>\n",
       "      <td>NaN</td>\n",
       "      <td>101</td>\n",
       "      <td>Japan</td>\n",
       "      <td>4</td>\n",
       "      <td>...</td>\n",
       "      <td>NaN</td>\n",
       "      <td>NaN</td>\n",
       "      <td>NaN</td>\n",
       "      <td>NaN</td>\n",
       "      <td>PGIS</td>\n",
       "      <td>-9</td>\n",
       "      <td>-9</td>\n",
       "      <td>1</td>\n",
       "      <td>1</td>\n",
       "      <td>NaN</td>\n",
       "    </tr>\n",
       "  </tbody>\n",
       "</table>\n",
       "<p>5 rows × 135 columns</p>\n",
       "</div>"
      ],
      "text/plain": [
       "        eventid  iyear  imonth  iday approxdate  extended resolution  country  \\\n",
       "0  197000000001   1970       7     2        NaN         0        NaN       58   \n",
       "1  197000000002   1970       0     0        NaN         0        NaN      130   \n",
       "2  197001000001   1970       1     0        NaN         0        NaN      160   \n",
       "3  197001000002   1970       1     0        NaN         0        NaN       78   \n",
       "4  197001000003   1970       1     0        NaN         0        NaN      101   \n",
       "\n",
       "          country_txt  region  ... addnotes scite1 scite2  scite3  dbsource  \\\n",
       "0  Dominican Republic       2  ...      NaN    NaN    NaN     NaN      PGIS   \n",
       "1              Mexico       1  ...      NaN    NaN    NaN     NaN      PGIS   \n",
       "2         Philippines       5  ...      NaN    NaN    NaN     NaN      PGIS   \n",
       "3              Greece       8  ...      NaN    NaN    NaN     NaN      PGIS   \n",
       "4               Japan       4  ...      NaN    NaN    NaN     NaN      PGIS   \n",
       "\n",
       "   INT_LOG  INT_IDEO INT_MISC INT_ANY  related  \n",
       "0        0         0        0       0      NaN  \n",
       "1        0         1        1       1      NaN  \n",
       "2       -9        -9        1       1      NaN  \n",
       "3       -9        -9        1       1      NaN  \n",
       "4       -9        -9        1       1      NaN  \n",
       "\n",
       "[5 rows x 135 columns]"
      ]
     },
     "execution_count": 44,
     "metadata": {},
     "output_type": "execute_result"
    }
   ],
   "source": [
    "df.head()\n"
   ]
  },
  {
   "cell_type": "code",
   "execution_count": null,
   "metadata": {},
   "outputs": [],
   "source": [
    "df[variables].apply(pd.value_counts).plot(kind='pie', layout=(n_rows,n_cols), subplots=True)"
   ]
  },
  {
   "cell_type": "markdown",
   "metadata": {},
   "source": [
    "### iyear:\n",
    "Ranging from 1970 - 2018 without 1993 due to errors in collection, databases that reconstruct 1993 are available but we will not be integrating at this stage.  A sharp increase in attacks can be seen in 2010's.\n",
    "### imonth:\n",
    "Attacks are distributed fairly evenly through out the months of the year.  If the exact month is unknown \"0\" is recorded pre 2011. Only 20 of these values exist in the database.\n",
    "### iday:\n",
    "The 1st and 14th are the most populated days of the month for attacks, the 30th and 31st are less popular as not everymonth has them.  If the exact date of the attack is unknown \"0\" is recorded, however for events after 2011 the date was selected from the midpoint of the range of possible dates."
   ]
  },
  {
   "cell_type": "code",
   "execution_count": 42,
   "metadata": {
    "scrolled": true
   },
   "outputs": [
    {
     "data": {
      "text/html": [
       "<div>\n",
       "<style scoped>\n",
       "    .dataframe tbody tr th:only-of-type {\n",
       "        vertical-align: middle;\n",
       "    }\n",
       "\n",
       "    .dataframe tbody tr th {\n",
       "        vertical-align: top;\n",
       "    }\n",
       "\n",
       "    .dataframe thead th {\n",
       "        text-align: right;\n",
       "    }\n",
       "</style>\n",
       "<table border=\"1\" class=\"dataframe\">\n",
       "  <thead>\n",
       "    <tr style=\"text-align: right;\">\n",
       "      <th></th>\n",
       "      <th>count</th>\n",
       "      <th>mean</th>\n",
       "      <th>std</th>\n",
       "      <th>min</th>\n",
       "      <th>25%</th>\n",
       "      <th>50%</th>\n",
       "      <th>75%</th>\n",
       "      <th>max</th>\n",
       "    </tr>\n",
       "  </thead>\n",
       "  <tbody>\n",
       "    <tr>\n",
       "      <th>iyear</th>\n",
       "      <td>191464.0</td>\n",
       "      <td>2003.420136</td>\n",
       "      <td>13.349405</td>\n",
       "      <td>1970.0</td>\n",
       "      <td>1991.0</td>\n",
       "      <td>2010.0</td>\n",
       "      <td>2015.0</td>\n",
       "      <td>2018.0</td>\n",
       "    </tr>\n",
       "    <tr>\n",
       "      <th>imonth</th>\n",
       "      <td>191464.0</td>\n",
       "      <td>6.462510</td>\n",
       "      <td>3.388515</td>\n",
       "      <td>0.0</td>\n",
       "      <td>4.0</td>\n",
       "      <td>6.0</td>\n",
       "      <td>9.0</td>\n",
       "      <td>12.0</td>\n",
       "    </tr>\n",
       "    <tr>\n",
       "      <th>iday</th>\n",
       "      <td>191464.0</td>\n",
       "      <td>15.507688</td>\n",
       "      <td>8.807727</td>\n",
       "      <td>0.0</td>\n",
       "      <td>8.0</td>\n",
       "      <td>15.0</td>\n",
       "      <td>23.0</td>\n",
       "      <td>31.0</td>\n",
       "    </tr>\n",
       "  </tbody>\n",
       "</table>\n",
       "</div>"
      ],
      "text/plain": [
       "           count         mean        std     min     25%     50%     75%  \\\n",
       "iyear   191464.0  2003.420136  13.349405  1970.0  1991.0  2010.0  2015.0   \n",
       "imonth  191464.0     6.462510   3.388515     0.0     4.0     6.0     9.0   \n",
       "iday    191464.0    15.507688   8.807727     0.0     8.0    15.0    23.0   \n",
       "\n",
       "           max  \n",
       "iyear   2018.0  \n",
       "imonth    12.0  \n",
       "iday      31.0  "
      ]
     },
     "execution_count": 42,
     "metadata": {},
     "output_type": "execute_result"
    }
   ],
   "source": [
    "data[[\"iyear\", \"imonth\", \"iday\"]].describe().transpose()"
   ]
  },
  {
   "cell_type": "code",
   "execution_count": 63,
   "metadata": {},
   "outputs": [
    {
     "data": {
      "image/png": "[encoded data removed]",
      "text/plain": [
       "<Figure size 576x396 with 1 Axes>"
      ]
     },
     "metadata": {},
     "output_type": "display_data"
    }
   ],
   "source": [
    "plt.hist = data['iyear'].hist(bins=49)\n",
    "plt.show()"
   ]
  },
  {
   "cell_type": "code",
   "execution_count": 64,
   "metadata": {
    "scrolled": true
   },
   "outputs": [
    {
     "data": {
      "image/png": "[encoded data removed]",
      "text/plain": [
       "<Figure size 576x396 with 1 Axes>"
      ]
     },
     "metadata": {},
     "output_type": "display_data"
    }
   ],
   "source": [
    "plt.hist = data['imonth'].hist(bins=13)\n",
    "plt.show()"
   ]
  },
  {
   "cell_type": "code",
   "execution_count": 68,
   "metadata": {},
   "outputs": [
    {
     "data": {
      "text/plain": [
       "5     17827\n",
       "7     17165\n",
       "8     16565\n",
       "10    16455\n",
       "6     16198\n",
       "3     16013\n",
       "4     15994\n",
       "1     15839\n",
       "11    15643\n",
       "9     14939\n",
       "2     14626\n",
       "12    14180\n",
       "0        20\n",
       "Name: imonth, dtype: int64"
      ]
     },
     "execution_count": 68,
     "metadata": {},
     "output_type": "execute_result"
    }
   ],
   "source": [
    "data['imonth'].value_counts()"
   ]
  },
  {
   "cell_type": "code",
   "execution_count": 67,
   "metadata": {
    "scrolled": true
   },
   "outputs": [
    {
     "data": {
      "image/png": "[encoded data removed]",
      "text/plain": [
       "<Figure size 576x396 with 1 Axes>"
      ]
     },
     "metadata": {},
     "output_type": "display_data"
    }
   ],
   "source": [
    "t value and another for an indexed version of that value. eg. 7: country & 8: country_txt, country_txt contains (Australia), country countains an indexedplt.hist = data['iday'].hist(bins=32)\n",
    "plt.show()"
   ]
  },
  {
   "cell_type": "markdown",
   "metadata": {},
   "source": [
    "## extended:\n",
    "A binary value showing if the incident took longer than 24 hrs to occur.\n",
    "\n",
    "## resolution:\n",
    "If binary value for extended is true, resolution gives the end date of the event.\n",
    "The data is given as a numeric date variable."
   ]
  },
  {
   "cell_type": "code",
   "execution_count": 71,
   "metadata": {},
   "outputs": [
    {
     "data": {
      "text/plain": [
       "0    182374\n",
       "1      9090\n",
       "Name: extended, dtype: int64"
      ]
     },
     "execution_count": 71,
     "metadata": {},
     "output_type": "execute_result"
    }
   ],
   "source": [
    "data['extended'].value_counts()"
   ]
  },
  {
   "cell_type": "code",
   "execution_count": 74,
   "metadata": {
    "scrolled": false
   },
   "outputs": [
    {
     "data": {
      "text/plain": [
       "count                    4453\n",
       "unique                   3272\n",
       "top       1998-08-04 00:00:00\n",
       "freq                       18\n",
       "first     1970-03-08 00:00:00\n",
       "last      2019-12-20 00:00:00\n",
       "Name: resolution, dtype: object"
      ]
     },
     "execution_count": 74,
     "metadata": {},
     "output_type": "execute_result"
    }
   ],
   "source": [
    "data['resolution'].describe().transpose()"
   ]
  },
  {
   "cell_type": "markdown",
   "metadata": {},
   "source": [
    "## doubterr\n",
    "A categorical variable, if 1 there is a doubt whether the event was an act of terrorism. If -9 the value was not recorded.\n",
    "\n",
    "## alternative\n",
    "If the legitimacy of the attack is in question gives possible reason for event."
   ]
  },
  {
   "cell_type": "code",
   "execution_count": 103,
   "metadata": {
    "scrolled": false
   },
   "outputs": [
    {
     "name": "stdout",
     "output_type": "stream",
     "text": [
      " 0    146619\n",
      " 1     31060\n",
      "-9     13785\n",
      "Name: doubtterr, dtype: int64\n",
      "1/2/1970: Unknown perpetrators detonated explosives at the Pacific Gas & Electric Company Edes substation in Oakland, California, United States.  Three transformers were damaged costing an estimated $20,000 to $25,000.  There were no casualties.\n"
     ]
    }
   ],
   "source": [
    "print(data['doubtterr'].value_counts())\n",
    "data2 = data.loc[data['doubtterr'] == 1]\n",
    "print(data2['summary'][7])"
   ]
  },
  {
   "cell_type": "code",
   "execution_count": 105,
   "metadata": {},
   "outputs": [
    {
     "data": {
      "text/plain": [
       "Insurgency/Guerilla Action    25142\n",
       "Other Crime Type               3801\n",
       "Intra/Inter-group Conflict     1356\n",
       "State Actors                    403\n",
       "Lack of Intentionality          368\n",
       "Name: alternative_txt, dtype: int64"
      ]
     },
     "execution_count": 105,
     "metadata": {},
     "output_type": "execute_result"
    }
   ],
   "source": [
    "data['alternative_txt'].value_counts()"
   ]
  },
  {
   "cell_type": "code",
   "execution_count": 128,
   "metadata": {
    "scrolled": false
   },
   "outputs": [
    {
     "data": {
      "text/plain": [
       "Iraq              26057\n",
       "Pakistan          14847\n",
       "Afghanistan       14509\n",
       "India             12853\n",
       "Colombia           8515\n",
       "Philippines        7509\n",
       "Peru               6108\n",
       "United Kingdom     5335\n",
       "El Salvador        5320\n",
       "Somalia            4674\n",
       "Name: country_txt, dtype: int64"
      ]
     },
     "execution_count": 128,
     "metadata": {},
     "output_type": "execute_result"
    }
   ],
   "source": [
    "data['country_txt'].value_counts()[:10]"
   ]
  },
  {
   "attachments": {
    "image.png": {
     "image/png": "[encoded data removed]"
    }
   },
   "cell_type": "markdown",
   "metadata": {},
   "source": [
    "![image.png](attachment:image.png)"
   ]
  },
  {
   "cell_type": "code",
   "execution_count": 129,
   "metadata": {
    "scrolled": true
   },
   "outputs": [
    {
     "data": {
      "text/plain": [
       "Middle East & North Africa     53110\n",
       "South Asia                     48266\n",
       "Sub-Saharan Africa             19752\n",
       "South America                  19292\n",
       "Western Europe                 16843\n",
       "Southeast Asia                 13363\n",
       "Central America & Caribbean    10359\n",
       "Eastern Europe                  5217\n",
       "North America                   3579\n",
       "East Asia                        808\n",
       "Central Asia                     571\n",
       "Australasia & Oceania            304\n",
       "Name: region_txt, dtype: int64"
      ]
     },
     "execution_count": 129,
     "metadata": {},
     "output_type": "execute_result"
    }
   ],
   "source": [
    "data['region_txt'].value_counts()"
   ]
  },
  {
   "cell_type": "code",
   "execution_count": 5,
   "metadata": {},
   "outputs": [
    {
     "data": {
      "text/plain": [
       "Baghdad               7832\n",
       "Northern Ireland      4583\n",
       "Unknown               4340\n",
       "Balochistan           3911\n",
       "Saladin               3631\n",
       "                      ... \n",
       "Pavlodar                 1\n",
       "Kosovo and Metojia       1\n",
       "Madaba                   1\n",
       "Coronie                  1\n",
       "Chongqing                1\n",
       "Name: provstate, Length: 2579, dtype: int64"
      ]
     },
     "execution_count": 5,
     "metadata": {},
     "output_type": "execute_result"
    }
   ],
   "source": [
    "data['provstate'].value_counts()"
   ]
  },
  {
   "cell_type": "code",
   "execution_count": 6,
   "metadata": {
    "scrolled": true
   },
   "outputs": [
    {
     "data": {
      "text/plain": [
       "Unknown      10298\n",
       "Baghdad       7765\n",
       "Karachi       2673\n",
       "Lima          2359\n",
       "Mosul         2309\n",
       "             ...  \n",
       "Androgue         1\n",
       "Coshquin         1\n",
       "Pachas           1\n",
       "Maphou           1\n",
       "pichanaki        1\n",
       "Name: city, Length: 39488, dtype: int64"
      ]
     },
     "execution_count": 6,
     "metadata": {},
     "output_type": "execute_result"
    }
   ],
   "source": [
    "data['city'].value_counts()"
   ]
  },
  {
   "cell_type": "code",
   "execution_count": 7,
   "metadata": {},
   "outputs": [
    {
     "data": {
      "text/plain": [
       " 0    177874\n",
       " 1     13555\n",
       "-9        35\n",
       "Name: vicinity, dtype: int64"
      ]
     },
     "execution_count": 7,
     "metadata": {},
     "output_type": "execute_result"
    }
   ],
   "source": [
    "data['vicinity'].value_counts()"
   ]
  },
  {
   "cell_type": "markdown",
   "metadata": {},
   "source": [
    "City and Province variable could be used if we want to break down specific countries"
   ]
  },
  {
   "cell_type": "code",
   "execution_count": 131,
   "metadata": {},
   "outputs": [
    {
     "data": {
      "text/plain": [
       "Bombing/Explosion                      91842\n",
       "Armed Assault                          45251\n",
       "Assassination                          20117\n",
       "Hostage Taking (Kidnapping)            12138\n",
       "Facility/Infrastructure Attack         11017\n",
       "Unknown                                 8267\n",
       "Unarmed Assault                         1096\n",
       "Hostage Taking (Barricade Incident)     1048\n",
       "Hijacking                                688\n",
       "Name: attacktype1_txt, dtype: int64"
      ]
     },
     "execution_count": 131,
     "metadata": {},
     "output_type": "execute_result"
    }
   ],
   "source": [
    "data['attacktype1_txt'].value_counts()"
   ]
  },
  {
   "cell_type": "code",
   "execution_count": 133,
   "metadata": {},
   "outputs": [
    {
     "data": {
      "text/plain": [
       "Armed Assault                          3753\n",
       "Facility/Infrastructure Attack         2007\n",
       "Bombing/Explosion                       530\n",
       "Hostage Taking (Kidnapping)             488\n",
       "Assassination                           162\n",
       "Hostage Taking (Barricade Incident)      37\n",
       "Unarmed Assault                          33\n",
       "Hijacking                                10\n",
       "Unknown                                   3\n",
       "Name: attacktype2_txt, dtype: int64"
      ]
     },
     "execution_count": 133,
     "metadata": {},
     "output_type": "execute_result"
    }
   ],
   "source": [
    "data['attacktype2_txt'].value_counts()"
   ]
  },
  {
   "cell_type": "code",
   "execution_count": 134,
   "metadata": {},
   "outputs": [
    {
     "data": {
      "text/plain": [
       "1    169795\n",
       "0     21669\n",
       "Name: success, dtype: int64"
      ]
     },
     "execution_count": 134,
     "metadata": {},
     "output_type": "execute_result"
    }
   ],
   "source": [
    "data['success'].value_counts()"
   ]
  },
  {
   "cell_type": "code",
   "execution_count": 136,
   "metadata": {},
   "outputs": [
    {
     "data": {
      "text/plain": [
       "0    184453\n",
       "1      7011\n",
       "Name: suicide, dtype: int64"
      ]
     },
     "execution_count": 136,
     "metadata": {},
     "output_type": "execute_result"
    }
   ],
   "source": [
    "data['suicide'].value_counts()\n",
    "# 1 when perpetrator did not expect to survive"
   ]
  },
  {
   "cell_type": "code",
   "execution_count": 135,
   "metadata": {
    "scrolled": true
   },
   "outputs": [
    {
     "data": {
      "text/plain": [
       "Explosives                                                                     96407\n",
       "Firearms                                                                       61885\n",
       "Unknown                                                                        16621\n",
       "Incendiary                                                                     11791\n",
       "Melee                                                                           3905\n",
       "Chemical                                                                         336\n",
       "Sabotage Equipment                                                               158\n",
       "Vehicle (not to include vehicle-borne explosives, i.e., car or truck bombs)      153\n",
       "Other                                                                            127\n",
       "Biological                                                                        35\n",
       "Fake Weapons                                                                      33\n",
       "Radiological                                                                      13\n",
       "Name: weaptype1_txt, dtype: int64"
      ]
     },
     "execution_count": 135,
     "metadata": {},
     "output_type": "execute_result"
    }
   ],
   "source": [
    "data['weaptype1_txt'].value_counts()"
   ]
  },
  {
   "cell_type": "code",
   "execution_count": 137,
   "metadata": {
    "scrolled": true
   },
   "outputs": [
    {
     "data": {
      "text/plain": [
       "Unknown Explosive Type                       46432\n",
       "Unknown Gun Type                             35986\n",
       "Automatic or Semi-Automatic Rifle            17670\n",
       "Projectile (rockets, mortars, RPGs, etc.)    10461\n",
       "Vehicle                                      10220\n",
       "Other Explosive Type                          7515\n",
       "Handgun                                       6886\n",
       "Grenade                                       5496\n",
       "Landmine                                      4636\n",
       "Arson/Fire                                    4631\n",
       "Suicide (carried bodily by human being)       3484\n",
       "Remote Trigger                                2868\n",
       "Knife or Other Sharp Object                   2765\n",
       "Sticky Bomb                                   1744\n",
       "Molotov Cocktail/Petrol Bomb                  1362\n",
       "Rifle/Shotgun (non-automatic)                 1245\n",
       "Dynamite/TNT                                  1240\n",
       "Gasoline or Alcohol                            888\n",
       "Time Fuse                                      810\n",
       "Pipe Bomb                                      668\n",
       "Blunt Object                                   609\n",
       "Letter Bomb                                    565\n",
       "Pressure Trigger                               255\n",
       "Hands, Feet, Fists                             243\n",
       "Unknown Weapon Type                            135\n",
       "Rope or Other Strangling Device                108\n",
       "Other Gun Type                                  88\n",
       "Poisoning                                       87\n",
       "Explosive                                       72\n",
       "Suffocation                                      9\n",
       "Name: weapsubtype1_txt, dtype: int64"
      ]
     },
     "execution_count": 137,
     "metadata": {},
     "output_type": "execute_result"
    }
   ],
   "source": [
    "data['weapsubtype1_txt'].value_counts()"
   ]
  },
  {
   "cell_type": "code",
   "execution_count": 138,
   "metadata": {},
   "outputs": [
    {
     "data": {
      "text/plain": [
       "Firearms                                                                       5675\n",
       "Explosives                                                                     3017\n",
       "Incendiary                                                                     2590\n",
       "Melee                                                                          1630\n",
       "Unknown                                                                         934\n",
       "Other                                                                           136\n",
       "Sabotage Equipment                                                               65\n",
       "Vehicle (not to include vehicle-borne explosives, i.e., car or truck bombs)      60\n",
       "Chemical                                                                         56\n",
       "Fake Weapons                                                                     27\n",
       "Biological                                                                        2\n",
       "Name: weaptype2_txt, dtype: int64"
      ]
     },
     "execution_count": 138,
     "metadata": {},
     "output_type": "execute_result"
    }
   ],
   "source": [
    "data['weaptype2_txt'].value_counts()"
   ]
  },
  {
   "cell_type": "code",
   "execution_count": 139,
   "metadata": {},
   "outputs": [
    {
     "data": {
      "text/plain": [
       "Firearms                                                                       876\n",
       "Melee                                                                          433\n",
       "Incendiary                                                                     365\n",
       "Explosives                                                                     200\n",
       "Unknown                                                                         59\n",
       "Other                                                                           49\n",
       "Vehicle (not to include vehicle-borne explosives, i.e., car or truck bombs)     18\n",
       "Sabotage Equipment                                                              14\n",
       "Fake Weapons                                                                    11\n",
       "Chemical                                                                         9\n",
       "Name: weaptype3_txt, dtype: int64"
      ]
     },
     "execution_count": 139,
     "metadata": {},
     "output_type": "execute_result"
    }
   ],
   "source": [
    "data['weaptype3_txt'].value_counts()"
   ]
  },
  {
   "cell_type": "code",
   "execution_count": 141,
   "metadata": {},
   "outputs": [
    {
     "data": {
      "text/plain": [
       "Private Citizens & Property       46283\n",
       "Military                          29978\n",
       "Police                            26023\n",
       "Government (General)              22274\n",
       "Business                          21277\n",
       "Transportation                     6929\n",
       "Unknown                            6449\n",
       "Utilities                          6158\n",
       "Religious Figures/Institutions     4693\n",
       "Educational Institution            4500\n",
       "Government (Diplomatic)            3664\n",
       "Terrorists/Non-State Militia       3207\n",
       "Journalists & Media                3072\n",
       "Violent Political Party            1959\n",
       "Airports & Aircraft                1363\n",
       "Telecommunication                  1052\n",
       "NGO                                1020\n",
       "Tourists                            449\n",
       "Maritime                            371\n",
       "Food or Water Supply                330\n",
       "Abortion Related                    265\n",
       "Other                               148\n",
       "Name: targtype1_txt, dtype: int64"
      ]
     },
     "execution_count": 141,
     "metadata": {},
     "output_type": "execute_result"
    }
   ],
   "source": [
    "data['targtype1_txt'].value_counts()"
   ]
  },
  {
   "cell_type": "code",
   "execution_count": 142,
   "metadata": {},
   "outputs": [
    {
     "data": {
      "text/plain": [
       "Unnamed Civilian/Unspecified                               12233\n",
       "Police Security Forces/Officers                            11726\n",
       "Military Unit/Patrol/Convoy                                 8599\n",
       "Military Personnel (soldiers, troops, officers, forces)     8584\n",
       "Village/City/Town/Suburb                                    7150\n",
       "                                                           ...  \n",
       "Multiple Telecommunication Targets                            31\n",
       "Fire Fighter/Truck                                            29\n",
       "Oil Tanker                                                    23\n",
       "Personnel                                                     19\n",
       "Internet Infrastructure                                       12\n",
       "Name: targsubtype1_txt, Length: 112, dtype: int64"
      ]
     },
     "execution_count": 142,
     "metadata": {},
     "output_type": "execute_result"
    }
   ],
   "source": [
    "data['targsubtype1_txt'].value_counts()"
   ]
  },
  {
   "cell_type": "code",
   "execution_count": 143,
   "metadata": {},
   "outputs": [
    {
     "data": {
      "text/plain": [
       "Iraq                              25522\n",
       "Pakistan                          14377\n",
       "India                             13002\n",
       "Afghanistan                       12567\n",
       "Colombia                           8125\n",
       "                                  ...  \n",
       "Tuvalu                                1\n",
       "Marshall Islands                      1\n",
       "Western Sahara                        1\n",
       "St. Lucia                             1\n",
       "People's Republic of the Congo        1\n",
       "Name: natlty1_txt, Length: 215, dtype: int64"
      ]
     },
     "execution_count": 143,
     "metadata": {},
     "output_type": "execute_result"
    }
   ],
   "source": [
    "data['natlty1_txt'].value_counts()"
   ]
  },
  {
   "cell_type": "code",
   "execution_count": 145,
   "metadata": {},
   "outputs": [
    {
     "data": {
      "text/plain": [
       "Unknown                                        86261\n",
       "Taliban                                         8727\n",
       "Islamic State of Iraq and the Levant (ISIL)     6385\n",
       "Shining Path (SL)                               4562\n",
       "Al-Shabaab                                      3774\n",
       "                                               ...  \n",
       "Jihadi Movement of the Sunna People of Iran        1\n",
       "Face to Face (Face-a-Face)                         1\n",
       "French Basque Nationalists                         1\n",
       "Sabaot Tribe                                       1\n",
       "Extremist Nat'list Group                           1\n",
       "Name: gname, Length: 3617, dtype: int64"
      ]
     },
     "execution_count": 145,
     "metadata": {},
     "output_type": "execute_result"
    }
   ],
   "source": [
    "data['gname'].value_counts()"
   ]
  },
  {
   "cell_type": "code",
   "execution_count": 146,
   "metadata": {},
   "outputs": [
    {
     "data": {
      "text/plain": [
       "Militants                                              480\n",
       "People's Liberation Forces (FPL)                       427\n",
       "Rebels                                                 163\n",
       "Diyala Province of the Islamic State                   141\n",
       "Baghdad Province of the Islamic State                  133\n",
       "                                                      ... \n",
       "Uganda People's Liberation Army                          1\n",
       "Jose Ignacio Mora Front                                  1\n",
       "Yakutumba Mayi Mayi                                      1\n",
       "Youth Brigade                                            1\n",
       "People's Committee against Police Atrocities (PCPA)      1\n",
       "Name: gsubname, Length: 1257, dtype: int64"
      ]
     },
     "execution_count": 146,
     "metadata": {},
     "output_type": "execute_result"
    }
   ],
   "source": [
    "data['gsubname'].value_counts()"
   ]
  },
  {
   "cell_type": "code",
   "execution_count": 147,
   "metadata": {},
   "outputs": [
    {
     "data": {
      "text/plain": [
       "Khorasan Chapter of the Islamic State         63\n",
       "Taliban                                       59\n",
       "Al-Nusrah Front                               57\n",
       "Lashkar-e-Taiba (LeT)                         56\n",
       "National Liberation Army of Colombia (ELN)    52\n",
       "                                              ..\n",
       "Al-Shabaab al-Mu'minin                         1\n",
       "Asa'ib Ahl al-Haqq                             1\n",
       "Ahfad al-Sahaba-Aknaf Bayt al-Maqdis           1\n",
       "Patriotic Arab Democratic Movement             1\n",
       "Armed Struggle Organization                    1\n",
       "Name: gname2, Length: 453, dtype: int64"
      ]
     },
     "execution_count": 147,
     "metadata": {},
     "output_type": "execute_result"
    }
   ],
   "source": [
    "data['gname2'].value_counts()"
   ]
  },
  {
   "cell_type": "code",
   "execution_count": 148,
   "metadata": {},
   "outputs": [
    {
     "data": {
      "text/plain": [
       "0    190792\n",
       "1       672\n",
       "Name: individual, dtype: int64"
      ]
     },
     "execution_count": 148,
     "metadata": {},
     "output_type": "execute_result"
    }
   ],
   "source": [
    "data['individual'].value_counts()\n",
    "# Only 700 done by individuals"
   ]
  },
  {
   "cell_type": "code",
   "execution_count": 149,
   "metadata": {},
   "outputs": [
    {
     "data": {
      "text/plain": [
       "-99.0     90276\n",
       " 1.0       9026\n",
       " 2.0       6426\n",
       " 3.0       2985\n",
       " 4.0       2325\n",
       "          ...  \n",
       " 52.0         1\n",
       " 750.0        1\n",
       " 290.0        1\n",
       " 68.0         1\n",
       " 82.0         1\n",
       "Name: nperps, Length: 114, dtype: int64"
      ]
     },
     "execution_count": 149,
     "metadata": {},
     "output_type": "execute_result"
    }
   ],
   "source": [
    "data['nperps'].value_counts()"
   ]
  },
  {
   "cell_type": "code",
   "execution_count": 150,
   "metadata": {},
   "outputs": [
    {
     "data": {
      "text/plain": [
       "0.0      92328\n",
       "1.0      38587\n",
       "2.0      14990\n",
       "3.0       8193\n",
       "4.0       5297\n",
       "         ...  \n",
       "315.0        1\n",
       "212.0        1\n",
       "184.0        1\n",
       "163.0        1\n",
       "280.0        1\n",
       "Name: nkill, Length: 207, dtype: int64"
      ]
     },
     "execution_count": 150,
     "metadata": {},
     "output_type": "execute_result"
    }
   ],
   "source": [
    "data['nkill'].value_counts()"
   ]
  },
  {
   "cell_type": "code",
   "execution_count": 151,
   "metadata": {},
   "outputs": [
    {
     "data": {
      "text/plain": [
       "0.0      109577\n",
       "1.0        7052\n",
       "2.0        2131\n",
       "3.0        1262\n",
       "4.0         795\n",
       "          ...  \n",
       "92.0          1\n",
       "140.0         1\n",
       "136.0         1\n",
       "90.0          1\n",
       "301.0         1\n",
       "Name: nkillter, Length: 99, dtype: int64"
      ]
     },
     "execution_count": 151,
     "metadata": {},
     "output_type": "execute_result"
    }
   ],
   "source": [
    "data['nkillter'].value_counts()"
   ]
  },
  {
   "cell_type": "code",
   "execution_count": 152,
   "metadata": {},
   "outputs": [
    {
     "data": {
      "text/plain": [
       "0.0      107978\n",
       "1.0       17148\n",
       "2.0       10987\n",
       "3.0        7872\n",
       "4.0        5201\n",
       "          ...  \n",
       "319.0         1\n",
       "154.0         1\n",
       "163.0         1\n",
       "491.0         1\n",
       "184.0         1\n",
       "Name: nwound, Length: 240, dtype: int64"
      ]
     },
     "execution_count": 152,
     "metadata": {},
     "output_type": "execute_result"
    }
   ],
   "source": [
    "data['nwound'].value_counts()"
   ]
  },
  {
   "cell_type": "code",
   "execution_count": 153,
   "metadata": {
    "scrolled": true
   },
   "outputs": [
    {
     "data": {
      "text/plain": [
       "0.0      118734\n",
       "1.0         998\n",
       "2.0         465\n",
       "3.0         326\n",
       "4.0         211\n",
       "5.0         135\n",
       "6.0         112\n",
       "7.0          90\n",
       "10.0         74\n",
       "8.0          68\n",
       "9.0          53\n",
       "11.0         40\n",
       "15.0         39\n",
       "13.0         36\n",
       "12.0         33\n",
       "20.0         26\n",
       "14.0         18\n",
       "16.0         16\n",
       "24.0         15\n",
       "17.0         13\n",
       "30.0         10\n",
       "18.0          9\n",
       "25.0          7\n",
       "40.0          6\n",
       "23.0          6\n",
       "19.0          6\n",
       "22.0          5\n",
       "21.0          5\n",
       "50.0          4\n",
       "60.0          4\n",
       "33.0          3\n",
       "35.0          3\n",
       "26.0          3\n",
       "100.0         3\n",
       "27.0          2\n",
       "51.0          2\n",
       "32.0          2\n",
       "31.0          2\n",
       "49.0          1\n",
       "65.0          1\n",
       "41.0          1\n",
       "62.0          1\n",
       "53.0          1\n",
       "28.0          1\n",
       "101.0         1\n",
       "38.0          1\n",
       "150.0         1\n",
       "200.0         1\n",
       "Name: nwoundte, dtype: int64"
      ]
     },
     "execution_count": 153,
     "metadata": {},
     "output_type": "execute_result"
    }
   ],
   "source": [
    "data['nwoundte'].value_counts()"
   ]
  },
  {
   "cell_type": "code",
   "execution_count": 154,
   "metadata": {},
   "outputs": [
    {
     "data": {
      "text/plain": [
       " 0.0    176243\n",
       " 1.0     14626\n",
       "-9.0       417\n",
       "Name: ishostkid, dtype: int64"
      ]
     },
     "execution_count": 154,
     "metadata": {},
     "output_type": "execute_result"
    }
   ],
   "source": [
    "data['ishostkid'].value_counts()"
   ]
  },
  {
   "cell_type": "code",
   "execution_count": 155,
   "metadata": {},
   "outputs": [
    {
     "data": {
      "text/plain": [
       " 1.0       5938\n",
       " 2.0       2000\n",
       "-99.0      1316\n",
       " 3.0       1139\n",
       " 4.0        790\n",
       "           ... \n",
       " 800.0        1\n",
       " 146.0        1\n",
       " 1686.0       1\n",
       " 175.0        1\n",
       " 79.0         1\n",
       "Name: nhostkid, Length: 210, dtype: int64"
      ]
     },
     "execution_count": 155,
     "metadata": {},
     "output_type": "execute_result"
    }
   ],
   "source": [
    "data['nhostkid'].value_counts()"
   ]
  },
  {
   "cell_type": "code",
   "execution_count": 1,
   "metadata": {},
   "outputs": [
    {
     "ename": "NameError",
     "evalue": "name 'data2' is not defined",
     "output_type": "error",
     "traceback": [
      "\u001b[0;31m----------------------------------------\u001b[0m",
      "\u001b[0;31mNameError\u001b[0mTraceback (most recent call last)",
      "\u001b[0;32m<ipython-input-1-77bbe7b50a36>\u001b[0m in \u001b[0;36m<module>\u001b[0;34m\u001b[0m\n\u001b[0;32m----> 1\u001b[0;31m \u001b[0mdata2\u001b[0m\u001b[0;34m.\u001b[0m\u001b[0mhead\u001b[0m\u001b[0;34m(\u001b[0m\u001b[0;34m)\u001b[0m\u001b[0;34m\u001b[0m\u001b[0;34m\u001b[0m\u001b[0m\n\u001b[0m",
      "\u001b[0;31mNameError\u001b[0m: name 'data2' is not defined"
     ]
    }
   ],
   "source": [
    "data2.head()"
   ]
  },
  {
   "cell_type": "code",
   "execution_count": null,
   "metadata": {},
   "outputs": [],
   "source": []
  }
 ],
 "metadata": {
  "kernelspec": {
   "display_name": "Python 3",
   "language": "python",
   "name": "python3"
  },
  "language_info": {
   "codemirror_mode": {
    "name": "ipython",
    "version": 3
   },
   "file_extension": ".py",
   "mimetype": "text/x-python",
   "name": "python",
   "nbconvert_exporter": "python",
   "pygments_lexer": "ipython3",
   "version": "3.8.2"
  }
 },
 "nbformat": 4,
 "nbformat_minor": 4
}
